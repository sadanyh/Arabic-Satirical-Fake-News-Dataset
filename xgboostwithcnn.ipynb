{
 "cells": [
  {
   "cell_type": "code",
   "execution_count": 1,
   "metadata": {},
   "outputs": [
    {
     "name": "stderr",
     "output_type": "stream",
     "text": [
      "C:\\Users\\sadan\\AppData\\Local\\Continuum\\anaconda3\\envs\\old_env\\lib\\site-packages\\sklearn\\ensemble\\weight_boosting.py:29: DeprecationWarning: numpy.core.umath_tests is an internal NumPy module and should not be imported. It will be removed in a future NumPy release.\n",
      "  from numpy.core.umath_tests import inner1d\n",
      "Using TensorFlow backend.\n",
      "C:\\Users\\sadan\\AppData\\Local\\Continuum\\anaconda3\\envs\\old_env\\lib\\site-packages\\tensorflow\\python\\framework\\dtypes.py:523: FutureWarning: Passing (type, 1) or '1type' as a synonym of type is deprecated; in a future version of numpy, it will be understood as (type, (1,)) / '(1,)type'.\n",
      "  _np_qint8 = np.dtype([(\"qint8\", np.int8, 1)])\n",
      "C:\\Users\\sadan\\AppData\\Local\\Continuum\\anaconda3\\envs\\old_env\\lib\\site-packages\\tensorflow\\python\\framework\\dtypes.py:524: FutureWarning: Passing (type, 1) or '1type' as a synonym of type is deprecated; in a future version of numpy, it will be understood as (type, (1,)) / '(1,)type'.\n",
      "  _np_quint8 = np.dtype([(\"quint8\", np.uint8, 1)])\n",
      "C:\\Users\\sadan\\AppData\\Local\\Continuum\\anaconda3\\envs\\old_env\\lib\\site-packages\\tensorflow\\python\\framework\\dtypes.py:525: FutureWarning: Passing (type, 1) or '1type' as a synonym of type is deprecated; in a future version of numpy, it will be understood as (type, (1,)) / '(1,)type'.\n",
      "  _np_qint16 = np.dtype([(\"qint16\", np.int16, 1)])\n",
      "C:\\Users\\sadan\\AppData\\Local\\Continuum\\anaconda3\\envs\\old_env\\lib\\site-packages\\tensorflow\\python\\framework\\dtypes.py:526: FutureWarning: Passing (type, 1) or '1type' as a synonym of type is deprecated; in a future version of numpy, it will be understood as (type, (1,)) / '(1,)type'.\n",
      "  _np_quint16 = np.dtype([(\"quint16\", np.uint16, 1)])\n",
      "C:\\Users\\sadan\\AppData\\Local\\Continuum\\anaconda3\\envs\\old_env\\lib\\site-packages\\tensorflow\\python\\framework\\dtypes.py:527: FutureWarning: Passing (type, 1) or '1type' as a synonym of type is deprecated; in a future version of numpy, it will be understood as (type, (1,)) / '(1,)type'.\n",
      "  _np_qint32 = np.dtype([(\"qint32\", np.int32, 1)])\n",
      "C:\\Users\\sadan\\AppData\\Local\\Continuum\\anaconda3\\envs\\old_env\\lib\\site-packages\\tensorflow\\python\\framework\\dtypes.py:532: FutureWarning: Passing (type, 1) or '1type' as a synonym of type is deprecated; in a future version of numpy, it will be understood as (type, (1,)) / '(1,)type'.\n",
      "  np_resource = np.dtype([(\"resource\", np.ubyte, 1)])\n",
      "C:\\Users\\sadan\\AppData\\Local\\Continuum\\anaconda3\\envs\\old_env\\lib\\site-packages\\gensim\\utils.py:1197: UserWarning: detected Windows; aliasing chunkize to chunkize_serial\n",
      "  warnings.warn(\"detected Windows; aliasing chunkize to chunkize_serial\")\n"
     ]
    }
   ],
   "source": [
    "from sklearn import model_selection, preprocessing, linear_model, naive_bayes, metrics, svm\n",
    "from sklearn.feature_extraction.text import TfidfVectorizer, CountVectorizer\n",
    "from sklearn import decomposition, ensemble\n",
    "\n",
    "import pandas, xgboost, numpy, textblob, string\n",
    "from keras.preprocessing import text, sequence\n",
    "from keras import layers, models, optimizers\n",
    "\n",
    "import logging\n",
    "import pandas as pd\n",
    "import numpy as np\n",
    "from numpy import random\n",
    "import gensim\n",
    "import nltk\n",
    "from sklearn.model_selection import train_test_split\n",
    "from sklearn.feature_extraction.text import CountVectorizer, TfidfVectorizer\n",
    "from sklearn.metrics import accuracy_score, confusion_matrix"
   ]
  },
  {
   "cell_type": "code",
   "execution_count": 2,
   "metadata": {},
   "outputs": [],
   "source": [
    "data = pd.read_csv(\"fake_real_cnn.csv\",  encoding='utf-8')"
   ]
  },
  {
   "cell_type": "code",
   "execution_count": 3,
   "metadata": {},
   "outputs": [
    {
     "data": {
      "text/html": [
       "<div>\n",
       "<style scoped>\n",
       "    .dataframe tbody tr th:only-of-type {\n",
       "        vertical-align: middle;\n",
       "    }\n",
       "\n",
       "    .dataframe tbody tr th {\n",
       "        vertical-align: top;\n",
       "    }\n",
       "\n",
       "    .dataframe thead th {\n",
       "        text-align: right;\n",
       "    }\n",
       "</style>\n",
       "<table border=\"1\" class=\"dataframe\">\n",
       "  <thead>\n",
       "    <tr style=\"text-align: right;\">\n",
       "      <th></th>\n",
       "      <th>Unnamed: 0</th>\n",
       "      <th>text</th>\n",
       "      <th>Label</th>\n",
       "    </tr>\n",
       "  </thead>\n",
       "  <tbody>\n",
       "    <tr>\n",
       "      <th>0</th>\n",
       "      <td>2899</td>\n",
       "      <td>ا مقتل ثلاثة جنود المان في افغانستان مقتل ثلا...</td>\n",
       "      <td>Real</td>\n",
       "    </tr>\n",
       "    <tr>\n",
       "      <th>1</th>\n",
       "      <td>781</td>\n",
       "      <td>حركة العدل والمساواة تفرج عن ستين من عناصر ال...</td>\n",
       "      <td>Real</td>\n",
       "    </tr>\n",
       "    <tr>\n",
       "      <th>2</th>\n",
       "      <td>3700</td>\n",
       "      <td>ا باكستان المحكمة العليا تهد بسجن رئيس مكتب م...</td>\n",
       "      <td>Real</td>\n",
       "    </tr>\n",
       "    <tr>\n",
       "      <th>3</th>\n",
       "      <td>3002</td>\n",
       "      <td>الأسطورة الحي  ة كريم بنزيما يمت ع الجماهير بل...</td>\n",
       "      <td>fake</td>\n",
       "    </tr>\n",
       "    <tr>\n",
       "      <th>4</th>\n",
       "      <td>3116</td>\n",
       "      <td>باحث فرنسي  مارين لوبان من نسل النبي محمد</td>\n",
       "      <td>fake</td>\n",
       "    </tr>\n",
       "    <tr>\n",
       "      <th>5</th>\n",
       "      <td>2595</td>\n",
       "      <td>انخفاض حاد لمنسوب الشباب لدى اليافعين أثبت مرك...</td>\n",
       "      <td>fake</td>\n",
       "    </tr>\n",
       "    <tr>\n",
       "      <th>6</th>\n",
       "      <td>967</td>\n",
       "      <td>أم  تستخدم مسدسا صاعقا لإيقاظ ابنها لحضور ا...</td>\n",
       "      <td>fake</td>\n",
       "    </tr>\n",
       "    <tr>\n",
       "      <th>7</th>\n",
       "      <td>2320</td>\n",
       "      <td>اليمن مقتل ثلاثة جنود في محافظة شبوة على أيدي...</td>\n",
       "      <td>Real</td>\n",
       "    </tr>\n",
       "    <tr>\n",
       "      <th>8</th>\n",
       "      <td>3616</td>\n",
       "      <td>ا بريطانيا وفرنسا تقترحان صندوقا لمناخ في قمة...</td>\n",
       "      <td>Real</td>\n",
       "    </tr>\n",
       "    <tr>\n",
       "      <th>9</th>\n",
       "      <td>1161</td>\n",
       "      <td>الاتحاد الأوروبي يحث إسرائيل على وقف الاستيطا...</td>\n",
       "      <td>Real</td>\n",
       "    </tr>\n",
       "  </tbody>\n",
       "</table>\n",
       "</div>"
      ],
      "text/plain": [
       "   Unnamed: 0                                               text Label\n",
       "0        2899   ا مقتل ثلاثة جنود المان في افغانستان مقتل ثلا...  Real\n",
       "1         781   حركة العدل والمساواة تفرج عن ستين من عناصر ال...  Real\n",
       "2        3700   ا باكستان المحكمة العليا تهد بسجن رئيس مكتب م...  Real\n",
       "3        3002  الأسطورة الحي  ة كريم بنزيما يمت ع الجماهير بل...  fake\n",
       "4        3116         باحث فرنسي  مارين لوبان من نسل النبي محمد   fake\n",
       "5        2595  انخفاض حاد لمنسوب الشباب لدى اليافعين أثبت مرك...  fake\n",
       "6         967     أم  تستخدم مسدسا صاعقا لإيقاظ ابنها لحضور ا...  fake\n",
       "7        2320   اليمن مقتل ثلاثة جنود في محافظة شبوة على أيدي...  Real\n",
       "8        3616   ا بريطانيا وفرنسا تقترحان صندوقا لمناخ في قمة...  Real\n",
       "9        1161   الاتحاد الأوروبي يحث إسرائيل على وقف الاستيطا...  Real"
      ]
     },
     "execution_count": 3,
     "metadata": {},
     "output_type": "execute_result"
    }
   ],
   "source": [
    "data.head(10)"
   ]
  },
  {
   "cell_type": "code",
   "execution_count": 4,
   "metadata": {},
   "outputs": [
    {
     "data": {
      "text/plain": [
       "(6895, 3)"
      ]
     },
     "execution_count": 4,
     "metadata": {},
     "output_type": "execute_result"
    }
   ],
   "source": [
    "data.shape"
   ]
  },
  {
   "cell_type": "code",
   "execution_count": 5,
   "metadata": {},
   "outputs": [
    {
     "data": {
      "text/plain": [
       "Unnamed: 0    0\n",
       "text          0\n",
       "Label         0\n",
       "dtype: int64"
      ]
     },
     "execution_count": 5,
     "metadata": {},
     "output_type": "execute_result"
    }
   ],
   "source": [
    "data.isnull().sum()"
   ]
  },
  {
   "cell_type": "code",
   "execution_count": 6,
   "metadata": {},
   "outputs": [
    {
     "data": {
      "text/html": [
       "<div>\n",
       "<style scoped>\n",
       "    .dataframe tbody tr th:only-of-type {\n",
       "        vertical-align: middle;\n",
       "    }\n",
       "\n",
       "    .dataframe tbody tr th {\n",
       "        vertical-align: top;\n",
       "    }\n",
       "\n",
       "    .dataframe thead th {\n",
       "        text-align: right;\n",
       "    }\n",
       "</style>\n",
       "<table border=\"1\" class=\"dataframe\">\n",
       "  <thead>\n",
       "    <tr style=\"text-align: right;\">\n",
       "      <th></th>\n",
       "      <th>text</th>\n",
       "      <th>Label</th>\n",
       "    </tr>\n",
       "    <tr>\n",
       "      <th>Unnamed: 0</th>\n",
       "      <th></th>\n",
       "      <th></th>\n",
       "    </tr>\n",
       "  </thead>\n",
       "  <tbody>\n",
       "    <tr>\n",
       "      <th>2899</th>\n",
       "      <td>ا مقتل ثلاثة جنود المان في افغانستان مقتل ثلا...</td>\n",
       "      <td>Real</td>\n",
       "    </tr>\n",
       "    <tr>\n",
       "      <th>781</th>\n",
       "      <td>حركة العدل والمساواة تفرج عن ستين من عناصر ال...</td>\n",
       "      <td>Real</td>\n",
       "    </tr>\n",
       "    <tr>\n",
       "      <th>3700</th>\n",
       "      <td>ا باكستان المحكمة العليا تهد بسجن رئيس مكتب م...</td>\n",
       "      <td>Real</td>\n",
       "    </tr>\n",
       "    <tr>\n",
       "      <th>3002</th>\n",
       "      <td>الأسطورة الحي  ة كريم بنزيما يمت ع الجماهير بل...</td>\n",
       "      <td>fake</td>\n",
       "    </tr>\n",
       "    <tr>\n",
       "      <th>3116</th>\n",
       "      <td>باحث فرنسي  مارين لوبان من نسل النبي محمد</td>\n",
       "      <td>fake</td>\n",
       "    </tr>\n",
       "  </tbody>\n",
       "</table>\n",
       "</div>"
      ],
      "text/plain": [
       "                                                         text Label\n",
       "Unnamed: 0                                                         \n",
       "2899         ا مقتل ثلاثة جنود المان في افغانستان مقتل ثلا...  Real\n",
       "781          حركة العدل والمساواة تفرج عن ستين من عناصر ال...  Real\n",
       "3700         ا باكستان المحكمة العليا تهد بسجن رئيس مكتب م...  Real\n",
       "3002        الأسطورة الحي  ة كريم بنزيما يمت ع الجماهير بل...  fake\n",
       "3116               باحث فرنسي  مارين لوبان من نسل النبي محمد   fake"
      ]
     },
     "execution_count": 6,
     "metadata": {},
     "output_type": "execute_result"
    }
   ],
   "source": [
    "# Set index \n",
    "data = data.set_index(\"Unnamed: 0\")\n",
    "\n",
    "# Print first lines of `df` \n",
    "data.head()"
   ]
  },
  {
   "cell_type": "code",
   "execution_count": 7,
   "metadata": {},
   "outputs": [],
   "source": [
    "import re\n",
    "def cleaning (txt):\n",
    "    \n",
    "   \n",
    "    a = ['خاص للحدود',\n",
    "         ' ليتها ',\n",
    "         ' سيكون قسم التعليقات متاحاً خلال بضعة أيّام ',\n",
    "         ' سيكون قسم التعليقات متاحا  خلال بضعة ',\n",
    "         ' وقعت على الأرض ضحكاً ',\n",
    "         ' ضحكت دون أن أقع على الأرض ',\n",
    "         ' مؤلم ',\n",
    "         ' إبداع ',\n",
    "         ' تجاوزت الحدود  ',\n",
    "         ' غبي ',\n",
    "         'المذكور أعلاه ',\n",
    "         'سيكون قسم التعليقات متاحاً خلال بضعة أيّام ',\n",
    "         '!',\n",
    "         \"''\",\n",
    "         ',',\n",
    "         ':',\n",
    "         '``',\n",
    "         '،',\n",
    "         '؟',\n",
    "         '||',\n",
    "         '٪',\n",
    "         'سيكون قسم التعليقات متاحاً خلال بضعة أيّام',\n",
    "         ' الحدود ',\n",
    "         'ليتها',\n",
    "         'كاريكاتير',\n",
    "         ' آآآآآآآمين ',\n",
    "         ' آآآه ',\n",
    "         ' آآآآآخ ',\n",
    "         'آآآآآآو ',\n",
    "         '(',\n",
    "         '=',\n",
    "         '.',\n",
    "         '[]',\n",
    "         ')',\n",
    "         ';',\n",
    "         '{}',\n",
    "         \"“\",\n",
    "         \"”\",\n",
    "         '-',\n",
    "         '\"',\n",
    "         '/',\n",
    "         \"'\",\n",
    "         '&#',\n",
    "         '#',\n",
    "         '&',\n",
    "         '%',\n",
    "         '{ }',\n",
    "         ' قد ',\n",
    "         ' أن ',\n",
    "         ' إن ',\n",
    "         ' إلا ',\n",
    "         ' تماماً ',\n",
    "         ':'\n",
    "         \n",
    "         \n",
    "        \n",
    "        \"كانون الأول\",\"تشرين الثاني\", ''\n",
    "         ,\"تشرين الأول \",\" أيلول\",\"تموز\",\" حزيران \",\" أيار\",\" نيسان \",\"كانون الثاني\", \" شباط \",' أغسطس آب ',' بي بي سي ',\" آذار \",\n",
    "         \"BBC Arabic\", \"content=\", \"الرئيسية\", \"الشرق الأوسط\"\n",
    "         , \"شارك برأيك\", \"اقتصاد وأعمال\", \"/>\", \"علوم وتكنولوجيا\",\"منوعات\", \"العالم\", \"سؤال وجواب:\"\n",
    "         , \" راديو وتلفزيون\"\n",
    "         ,  \"GMT\",'رياضة', \" - - \" ,'؟', '.',\"''\",',',':','``','=','،','-', \n",
    "         \" آخر تحديث\",\"بالصور\",\"تشرين\", \"الثاني\", \"2009\", \"2010\", \"حزيران\", \"BBCArabic.com\", \"كانون\", ' ! '\n",
    "        ]\n",
    "    for word in a:\n",
    "        txt = txt.replace(word,'')\n",
    "       \n",
    "    p_tashkeel = re.compile(r'[\\u0617-\\u061A\\u064B-\\u0652]')\n",
    "    txt = re.sub(p_tashkeel,\"\", txt)#remove tashkeel (diactritics)\n",
    "    txt = re.sub(r'\\d+', ' ', txt) #substituting digits with 'number'\n",
    "    txt = re.sub(r'[a-zA-Z]+', ' ', txt, flags=re.I) #deleting english letters\n",
    "    txt = re.sub(r'\\W', ' ', txt, flags = re.I) # remove sepcial characters\n",
    "    txt = re.sub(r'\\s+', ' ', txt) #Substituting multiple spaces with single space\n",
    "#     txt = re.sub(r'(?:^| )\\w(?:$| )', ' ', txt) #Substituting single characters\n",
    "#     txt = re.sub(r'(\\s+[a-zA-Z]\\s+)', ' ', txt) #Substituting single characters\n",
    "    \n",
    "\n",
    "\n",
    "\n",
    "    return txt"
   ]
  },
  {
   "cell_type": "code",
   "execution_count": 8,
   "metadata": {},
   "outputs": [],
   "source": [
    "data['text'] = data['text'].apply(cleaning)"
   ]
  },
  {
   "cell_type": "code",
   "execution_count": 22,
   "metadata": {},
   "outputs": [],
   "source": [
    "from sklearn.model_selection import train_test_split\n",
    "\n",
    "# split complete dataset in train-test with ratio 80-20 respectively\n",
    "\n",
    "X_train, X_test, y_train, y_test = train_test_split(data['text'], data['Label'], test_size=0.2, random_state=1)\n",
    "\n",
    "\n",
    "# again split train data in train-validation with 90-10 ratio respectively\n",
    "\n",
    "X_train, X_val, y_train, y_val = train_test_split(X_train, y_train, test_size=0.1, random_state=1)"
   ]
  },
  {
   "cell_type": "code",
   "execution_count": 23,
   "metadata": {},
   "outputs": [],
   "source": [
    "from sklearn.feature_extraction.text import TfidfVectorizer\n",
    "from sklearn.base import BaseEstimator\n",
    "class Text2VECTORTransformer(BaseEstimator):\n",
    "\n",
    "    def __init__(self):\n",
    "        self._model = CountVectorizer(max_features=1500)\n",
    "        pass\n",
    "\n",
    "    def fit(self, X_train, y_train=None):\n",
    "        #X_train = X_train.apply(lambda x : cleaning_hudoodtext2(x))\n",
    "        self._model.fit(X_train)\n",
    "        return self\n",
    "\n",
    "    def transform(self, X_train):\n",
    "        return self._model.transform(X_train)"
   ]
  },
  {
   "cell_type": "code",
   "execution_count": 24,
   "metadata": {},
   "outputs": [],
   "source": [
    "from sklearn.feature_extraction.text import TfidfVectorizer\n",
    "from sklearn.base import BaseEstimator\n",
    "class Text2tfTransformer(BaseEstimator):\n",
    "\n",
    "    def __init__(self):\n",
    "        self._model = TfidfVectorizer(max_features=1500)\n",
    "        pass\n",
    "\n",
    "    def fit(self, X_train, y_train=None):\n",
    "        #X_train = X_train.apply(lambda x : cleaning_hudoodtext2(x))\n",
    "        self._model.fit(X_train)\n",
    "        return self\n",
    "\n",
    "    def transform(self, X_train):\n",
    "        return self._model.transform(X_train)"
   ]
  },
  {
   "cell_type": "code",
   "execution_count": 25,
   "metadata": {},
   "outputs": [
    {
     "name": "stderr",
     "output_type": "stream",
     "text": [
      "C:\\Users\\sadan\\AppData\\Local\\Continuum\\anaconda3\\envs\\old_env\\lib\\site-packages\\sklearn\\preprocessing\\label.py:151: DeprecationWarning: The truth value of an empty array is ambiguous. Returning False, but in future this will result in an error. Use `array.size > 0` to check that an array is not empty.\n",
      "  if diff:\n"
     ]
    }
   ],
   "source": [
    "# tf\n",
    "\n",
    "import xgboost as xgb\n",
    "from sklearn.metrics import classification_report\n",
    "from sklearn.pipeline import Pipeline\n",
    "\n",
    "pl_xgb_tf_idf = Pipeline(steps=[('COUNT',Text2tfTransformer()),\n",
    "                         ('xgboost', xgb.XGBClassifier(objective='binary:logitraw'))])\n",
    "pl_xgb_tf_idf.fit(X_train,  y_train)\n",
    "preds = pl_xgb_tf_idf.predict(X_val)"
   ]
  },
  {
   "cell_type": "code",
   "execution_count": 26,
   "metadata": {},
   "outputs": [
    {
     "name": "stdout",
     "output_type": "stream",
     "text": [
      "             precision    recall  f1-score   support\n",
      "\n",
      "       fake     0.9743    0.9601    0.9672       276\n",
      "       Real     0.9607    0.9746    0.9676       276\n",
      "\n",
      "avg / total     0.9675    0.9674    0.9674       552\n",
      "\n"
     ]
    },
    {
     "data": {
      "text/plain": [
       "0.967391304347826"
      ]
     },
     "execution_count": 26,
     "metadata": {},
     "output_type": "execute_result"
    }
   ],
   "source": [
    "from sklearn import metrics\n",
    "from sklearn.metrics import accuracy_score, confusion_matrix,classification_report\n",
    "print(classification_report(preds, y_val, target_names=['fake', 'Real'],digits=4))\n",
    "acc = metrics.accuracy_score(y_val,preds)\n",
    "acc"
   ]
  },
  {
   "cell_type": "code",
   "execution_count": 27,
   "metadata": {},
   "outputs": [
    {
     "name": "stdout",
     "output_type": "stream",
     "text": [
      "             precision    recall  f1-score   support\n",
      "\n",
      "       fake     0.9780    0.9807    0.9794       726\n",
      "       Real     0.9785    0.9755    0.9770       653\n",
      "\n",
      "avg / total     0.9782    0.9782    0.9782      1379\n",
      "\n"
     ]
    },
    {
     "name": "stderr",
     "output_type": "stream",
     "text": [
      "C:\\Users\\sadan\\AppData\\Local\\Continuum\\anaconda3\\envs\\old_env\\lib\\site-packages\\sklearn\\preprocessing\\label.py:151: DeprecationWarning: The truth value of an empty array is ambiguous. Returning False, but in future this will result in an error. Use `array.size > 0` to check that an array is not empty.\n",
      "  if diff:\n"
     ]
    },
    {
     "data": {
      "text/plain": [
       "0.9782451051486585"
      ]
     },
     "execution_count": 27,
     "metadata": {},
     "output_type": "execute_result"
    }
   ],
   "source": [
    "preds_test = pl_xgb_tf_idf.predict(X_test)\n",
    "print(classification_report(preds_test, y_test, target_names=['fake', 'Real'],digits=4))\n",
    "acc_test = metrics.accuracy_score(y_test,preds_test)\n",
    "acc_test"
   ]
  },
  {
   "cell_type": "code",
   "execution_count": 28,
   "metadata": {},
   "outputs": [
    {
     "name": "stderr",
     "output_type": "stream",
     "text": [
      "C:\\Users\\sadan\\AppData\\Local\\Continuum\\anaconda3\\envs\\old_env\\lib\\site-packages\\sklearn\\preprocessing\\label.py:151: DeprecationWarning: The truth value of an empty array is ambiguous. Returning False, but in future this will result in an error. Use `array.size > 0` to check that an array is not empty.\n",
      "  if diff:\n"
     ]
    }
   ],
   "source": [
    "import xgboost as xgb\n",
    "from sklearn.metrics import classification_report\n",
    "from sklearn.pipeline import Pipeline\n",
    "\n",
    "pl_xgb_tf_idf = Pipeline(steps=[('COUNT',Text2VECTORTransformer()),\n",
    "                         ('xgboost', xgb.XGBClassifier(objective='binary:logitraw'))])\n",
    "pl_xgb_tf_idf.fit(X_train,  y_train)\n",
    "preds = pl_xgb_tf_idf.predict(X_val)"
   ]
  },
  {
   "cell_type": "code",
   "execution_count": 29,
   "metadata": {},
   "outputs": [
    {
     "name": "stdout",
     "output_type": "stream",
     "text": [
      "             precision    recall  f1-score   support\n",
      "\n",
      "       fake     0.9669    0.9359    0.9512       281\n",
      "       Real     0.9357    0.9668    0.9510       271\n",
      "\n",
      "avg / total     0.9516    0.9511    0.9511       552\n",
      "\n"
     ]
    },
    {
     "data": {
      "text/plain": [
       "0.9510869565217391"
      ]
     },
     "execution_count": 29,
     "metadata": {},
     "output_type": "execute_result"
    }
   ],
   "source": [
    "from sklearn import metrics\n",
    "from sklearn.metrics import accuracy_score, confusion_matrix,classification_report\n",
    "print(classification_report(preds, y_val, target_names=['fake', 'Real'],digits=4))\n",
    "acc = metrics.accuracy_score(y_val,preds)\n",
    "acc"
   ]
  },
  {
   "cell_type": "code",
   "execution_count": 30,
   "metadata": {},
   "outputs": [
    {
     "name": "stdout",
     "output_type": "stream",
     "text": [
      "             precision    recall  f1-score   support\n",
      "\n",
      "       fake     0.9794    0.9727    0.9760       733\n",
      "       Real     0.9693    0.9768    0.9730       646\n",
      "\n",
      "avg / total     0.9747    0.9746    0.9746      1379\n",
      "\n"
     ]
    },
    {
     "name": "stderr",
     "output_type": "stream",
     "text": [
      "C:\\Users\\sadan\\AppData\\Local\\Continuum\\anaconda3\\envs\\old_env\\lib\\site-packages\\sklearn\\preprocessing\\label.py:151: DeprecationWarning: The truth value of an empty array is ambiguous. Returning False, but in future this will result in an error. Use `array.size > 0` to check that an array is not empty.\n",
      "  if diff:\n"
     ]
    },
    {
     "data": {
      "text/plain": [
       "0.9746192893401016"
      ]
     },
     "execution_count": 30,
     "metadata": {},
     "output_type": "execute_result"
    }
   ],
   "source": [
    "preds_test = pl_xgb_tf_idf.predict(X_test)\n",
    "print(classification_report(preds_test, y_test, target_names=['fake', 'Real'],digits=4))\n",
    "acc_test = metrics.accuracy_score(y_test,preds_test)\n",
    "acc_test"
   ]
  },
  {
   "cell_type": "code",
   "execution_count": null,
   "metadata": {},
   "outputs": [],
   "source": []
  }
 ],
 "metadata": {
  "kernelspec": {
   "display_name": "Python [conda env:old_env] *",
   "language": "python",
   "name": "conda-env-old_env-py"
  },
  "language_info": {
   "codemirror_mode": {
    "name": "ipython",
    "version": 3
   },
   "file_extension": ".py",
   "mimetype": "text/x-python",
   "name": "python",
   "nbconvert_exporter": "python",
   "pygments_lexer": "ipython3",
   "version": "3.6.5"
  }
 },
 "nbformat": 4,
 "nbformat_minor": 2
}
