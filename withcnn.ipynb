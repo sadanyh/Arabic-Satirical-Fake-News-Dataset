{
 "cells": [
  {
   "cell_type": "code",
   "execution_count": 1,
   "metadata": {},
   "outputs": [],
   "source": [
    "import glob\n",
    "import pandas as pd\n",
    "files1 = glob.glob('C:/Users/sadan/OneDrive/MA Wolverhampton/thesis/liar/with_ahram/fake_news/*.txt', recursive=True)\n"
   ]
  },
  {
   "cell_type": "code",
   "execution_count": 2,
   "metadata": {},
   "outputs": [],
   "source": [
    "ls1 = []\n",
    "for file in files1:\n",
    "    data1 = open(file, 'r',encoding='utf8')\n",
    "    f1 = ls1.append(data1.read())"
   ]
  },
  {
   "cell_type": "code",
   "execution_count": 3,
   "metadata": {},
   "outputs": [
    {
     "data": {
      "text/plain": [
       "3185"
      ]
     },
     "execution_count": 3,
     "metadata": {},
     "output_type": "execute_result"
    }
   ],
   "source": [
    "len(ls1)"
   ]
  },
  {
   "cell_type": "code",
   "execution_count": 22,
   "metadata": {},
   "outputs": [
    {
     "data": {
      "text/plain": [
       "468"
      ]
     },
     "execution_count": 22,
     "metadata": {},
     "output_type": "execute_result"
    }
   ],
   "source": [
    "files3 = glob.glob('C:/Users/sadan/OneDrive/MA Wolverhampton/thesis/liar/with_ahram/real/*.txt', recursive=True)\n",
    "len(files3)"
   ]
  },
  {
   "cell_type": "code",
   "execution_count": 27,
   "metadata": {},
   "outputs": [
    {
     "data": {
      "text/plain": [
       "'C:\\\\Users\\\\sadan\\\\OneDrive\\\\MA Wolverhampton\\\\thesis\\\\liar\\\\codes'"
      ]
     },
     "execution_count": 27,
     "metadata": {},
     "output_type": "execute_result"
    }
   ],
   "source": [
    "pwd"
   ]
  },
  {
   "cell_type": "code",
   "execution_count": 26,
   "metadata": {},
   "outputs": [],
   "source": [
    "import os    \n",
    "from chardet import detect\n",
    "\n",
    "# get file encoding type\n",
    "def get_encoding_type(file):\n",
    "    with open(file, 'rb') as f:\n",
    "        rawdata = f.read()\n",
    "    return detect(rawdata)['encoding']\n",
    "i= 0\n",
    "for file in files3:\n",
    "    i+=1\n",
    "    from_codec = get_encoding_type(file)\n",
    "    trgfile = 'coverted'+str(i) +'.txt'\n",
    "\n",
    "    # add try: except block for reliability\n",
    "    try: \n",
    "        with open(file, 'r', encoding=from_codec) as f, open(trgfile, 'w', encoding='utf-8') as e:\n",
    "            text = f.read() # for small files, for big use chunks\n",
    "            e.write(text)\n",
    "\n",
    "        os.remove(file) # remove old encoding file\n",
    "        os.rename(trgfile, file) # rename new encoding\n",
    "    except UnicodeDecodeError:\n",
    "        print('Decode Error')\n",
    "    except UnicodeEncodeError:\n",
    "        print('Encode Error')"
   ]
  },
  {
   "cell_type": "code",
   "execution_count": 28,
   "metadata": {},
   "outputs": [
    {
     "data": {
      "text/plain": [
       "3710"
      ]
     },
     "execution_count": 28,
     "metadata": {},
     "output_type": "execute_result"
    }
   ],
   "source": [
    "files2 = glob.glob('C:/Users/sadan/OneDrive/MA Wolverhampton/thesis/liar/with_ahram/real_news/*.txt', recursive=True)\n",
    "len(files2)"
   ]
  },
  {
   "cell_type": "code",
   "execution_count": 30,
   "metadata": {},
   "outputs": [],
   "source": [
    "ls2 = []\n",
    "for file in files2:\n",
    "    data2 = open(file, 'r', encoding ='utf-8')\n",
    "    f2 = ls2.append(data2.read())"
   ]
  },
  {
   "cell_type": "code",
   "execution_count": 31,
   "metadata": {},
   "outputs": [],
   "source": [
    "dataframe1 = []\n",
    "for l in ls1:\n",
    "    dataframe1.append([l,'fake'])\n",
    "df1 = pd.DataFrame(dataframe1, columns = ['text', 'Label'])\n"
   ]
  },
  {
   "cell_type": "code",
   "execution_count": 32,
   "metadata": {},
   "outputs": [],
   "source": [
    "dataframe2 = []\n",
    "for l in ls2:\n",
    "    dataframe2.append([l,'Real'])\n",
    "df2 = pd.DataFrame(dataframe2, columns = ['text', 'Label'])"
   ]
  },
  {
   "cell_type": "code",
   "execution_count": 33,
   "metadata": {},
   "outputs": [],
   "source": [
    "all_data = df1.append(df2)"
   ]
  },
  {
   "cell_type": "code",
   "execution_count": 34,
   "metadata": {},
   "outputs": [
    {
     "data": {
      "text/plain": [
       "6895"
      ]
     },
     "execution_count": 34,
     "metadata": {},
     "output_type": "execute_result"
    }
   ],
   "source": [
    "len(all_data)"
   ]
  },
  {
   "cell_type": "code",
   "execution_count": 35,
   "metadata": {},
   "outputs": [
    {
     "data": {
      "text/html": [
       "<div>\n",
       "<style scoped>\n",
       "    .dataframe tbody tr th:only-of-type {\n",
       "        vertical-align: middle;\n",
       "    }\n",
       "\n",
       "    .dataframe tbody tr th {\n",
       "        vertical-align: top;\n",
       "    }\n",
       "\n",
       "    .dataframe thead th {\n",
       "        text-align: right;\n",
       "    }\n",
       "</style>\n",
       "<table border=\"1\" class=\"dataframe\">\n",
       "  <thead>\n",
       "    <tr style=\"text-align: right;\">\n",
       "      <th></th>\n",
       "      <th>text</th>\n",
       "      <th>Label</th>\n",
       "    </tr>\n",
       "  </thead>\n",
       "  <tbody>\n",
       "    <tr>\n",
       "      <th>0</th>\n",
       "      <td>تحليل  السيسي الرقم الصعب فى مؤتمر العشرين  ا...</td>\n",
       "      <td>fake</td>\n",
       "    </tr>\n",
       "    <tr>\n",
       "      <th>1</th>\n",
       "      <td>طالب توجيهي يكتشف حبه لمتابعة النشرة الاقتصادي...</td>\n",
       "      <td>fake</td>\n",
       "    </tr>\n",
       "    <tr>\n",
       "      <th>2</th>\n",
       "      <td>عانس تجد عريسا  رغم بلوغها سن الرابعة والعشرين...</td>\n",
       "      <td>fake</td>\n",
       "    </tr>\n",
       "    <tr>\n",
       "      <th>3</th>\n",
       "      <td>التنمية  لم نضبط متسولين بأول أيام رمضان با...</td>\n",
       "      <td>fake</td>\n",
       "    </tr>\n",
       "    <tr>\n",
       "      <th>4</th>\n",
       "      <td>شاب ينزعج من خبر تفجير رغم وقوعه كالمعتاد في ب...</td>\n",
       "      <td>fake</td>\n",
       "    </tr>\n",
       "  </tbody>\n",
       "</table>\n",
       "</div>"
      ],
      "text/plain": [
       "                                                text Label\n",
       "0   تحليل  السيسي الرقم الصعب فى مؤتمر العشرين  ا...  fake\n",
       "1  طالب توجيهي يكتشف حبه لمتابعة النشرة الاقتصادي...  fake\n",
       "2  عانس تجد عريسا  رغم بلوغها سن الرابعة والعشرين...  fake\n",
       "3     التنمية  لم نضبط متسولين بأول أيام رمضان با...  fake\n",
       "4  شاب ينزعج من خبر تفجير رغم وقوعه كالمعتاد في ب...  fake"
      ]
     },
     "execution_count": 35,
     "metadata": {},
     "output_type": "execute_result"
    }
   ],
   "source": [
    "all_data.head()"
   ]
  },
  {
   "cell_type": "code",
   "execution_count": 36,
   "metadata": {},
   "outputs": [
    {
     "data": {
      "text/html": [
       "<div>\n",
       "<style scoped>\n",
       "    .dataframe tbody tr th:only-of-type {\n",
       "        vertical-align: middle;\n",
       "    }\n",
       "\n",
       "    .dataframe tbody tr th {\n",
       "        vertical-align: top;\n",
       "    }\n",
       "\n",
       "    .dataframe thead th {\n",
       "        text-align: right;\n",
       "    }\n",
       "</style>\n",
       "<table border=\"1\" class=\"dataframe\">\n",
       "  <thead>\n",
       "    <tr style=\"text-align: right;\">\n",
       "      <th></th>\n",
       "      <th>text</th>\n",
       "      <th>Label</th>\n",
       "    </tr>\n",
       "  </thead>\n",
       "  <tbody>\n",
       "    <tr>\n",
       "      <th>2899</th>\n",
       "      <td>ا مقتل ثلاثة جنود المان في افغانستان مقتل ثلا...</td>\n",
       "      <td>Real</td>\n",
       "    </tr>\n",
       "    <tr>\n",
       "      <th>781</th>\n",
       "      <td>حركة العدل والمساواة تفرج عن ستين من عناصر ال...</td>\n",
       "      <td>Real</td>\n",
       "    </tr>\n",
       "    <tr>\n",
       "      <th>3700</th>\n",
       "      <td>ا باكستان المحكمة العليا تهد بسجن رئيس مكتب م...</td>\n",
       "      <td>Real</td>\n",
       "    </tr>\n",
       "    <tr>\n",
       "      <th>3002</th>\n",
       "      <td>الأسطورة الحي  ة كريم بنزيما يمت ع الجماهير بل...</td>\n",
       "      <td>fake</td>\n",
       "    </tr>\n",
       "    <tr>\n",
       "      <th>3116</th>\n",
       "      <td>باحث فرنسي  مارين لوبان من نسل النبي محمد</td>\n",
       "      <td>fake</td>\n",
       "    </tr>\n",
       "  </tbody>\n",
       "</table>\n",
       "</div>"
      ],
      "text/plain": [
       "                                                   text Label\n",
       "2899   ا مقتل ثلاثة جنود المان في افغانستان مقتل ثلا...  Real\n",
       "781    حركة العدل والمساواة تفرج عن ستين من عناصر ال...  Real\n",
       "3700   ا باكستان المحكمة العليا تهد بسجن رئيس مكتب م...  Real\n",
       "3002  الأسطورة الحي  ة كريم بنزيما يمت ع الجماهير بل...  fake\n",
       "3116         باحث فرنسي  مارين لوبان من نسل النبي محمد   fake"
      ]
     },
     "execution_count": 36,
     "metadata": {},
     "output_type": "execute_result"
    }
   ],
   "source": [
    "import sklearn.utils\n",
    "df = sklearn.utils.shuffle(all_data)\n",
    "#print('\\n\\ndf: {0}'.format(df))\n",
    "df.to_csv('fake_real_cnn.csv', encoding='utf-8')\n",
    "df.head()"
   ]
  },
  {
   "cell_type": "code",
   "execution_count": 116,
   "metadata": {},
   "outputs": [],
   "source": [
    "df = pd.read_csv('fake_real_cnn.csv', encoding='utf-8')"
   ]
  },
  {
   "cell_type": "code",
   "execution_count": 12,
   "metadata": {},
   "outputs": [
    {
     "name": "stderr",
     "output_type": "stream",
     "text": [
      "C:\\Users\\sadan\\AppData\\Local\\Continuum\\anaconda3\\envs\\old_env\\lib\\site-packages\\sklearn\\ensemble\\weight_boosting.py:29: DeprecationWarning: numpy.core.umath_tests is an internal NumPy module and should not be imported. It will be removed in a future NumPy release.\n",
      "  from numpy.core.umath_tests import inner1d\n",
      "Using TensorFlow backend.\n",
      "C:\\Users\\sadan\\AppData\\Local\\Continuum\\anaconda3\\envs\\old_env\\lib\\site-packages\\tensorflow\\python\\framework\\dtypes.py:523: FutureWarning: Passing (type, 1) or '1type' as a synonym of type is deprecated; in a future version of numpy, it will be understood as (type, (1,)) / '(1,)type'.\n",
      "  _np_qint8 = np.dtype([(\"qint8\", np.int8, 1)])\n",
      "C:\\Users\\sadan\\AppData\\Local\\Continuum\\anaconda3\\envs\\old_env\\lib\\site-packages\\tensorflow\\python\\framework\\dtypes.py:524: FutureWarning: Passing (type, 1) or '1type' as a synonym of type is deprecated; in a future version of numpy, it will be understood as (type, (1,)) / '(1,)type'.\n",
      "  _np_quint8 = np.dtype([(\"quint8\", np.uint8, 1)])\n",
      "C:\\Users\\sadan\\AppData\\Local\\Continuum\\anaconda3\\envs\\old_env\\lib\\site-packages\\tensorflow\\python\\framework\\dtypes.py:525: FutureWarning: Passing (type, 1) or '1type' as a synonym of type is deprecated; in a future version of numpy, it will be understood as (type, (1,)) / '(1,)type'.\n",
      "  _np_qint16 = np.dtype([(\"qint16\", np.int16, 1)])\n",
      "C:\\Users\\sadan\\AppData\\Local\\Continuum\\anaconda3\\envs\\old_env\\lib\\site-packages\\tensorflow\\python\\framework\\dtypes.py:526: FutureWarning: Passing (type, 1) or '1type' as a synonym of type is deprecated; in a future version of numpy, it will be understood as (type, (1,)) / '(1,)type'.\n",
      "  _np_quint16 = np.dtype([(\"quint16\", np.uint16, 1)])\n",
      "C:\\Users\\sadan\\AppData\\Local\\Continuum\\anaconda3\\envs\\old_env\\lib\\site-packages\\tensorflow\\python\\framework\\dtypes.py:527: FutureWarning: Passing (type, 1) or '1type' as a synonym of type is deprecated; in a future version of numpy, it will be understood as (type, (1,)) / '(1,)type'.\n",
      "  _np_qint32 = np.dtype([(\"qint32\", np.int32, 1)])\n",
      "C:\\Users\\sadan\\AppData\\Local\\Continuum\\anaconda3\\envs\\old_env\\lib\\site-packages\\tensorflow\\python\\framework\\dtypes.py:532: FutureWarning: Passing (type, 1) or '1type' as a synonym of type is deprecated; in a future version of numpy, it will be understood as (type, (1,)) / '(1,)type'.\n",
      "  np_resource = np.dtype([(\"resource\", np.ubyte, 1)])\n",
      "C:\\Users\\sadan\\AppData\\Local\\Continuum\\anaconda3\\envs\\old_env\\lib\\site-packages\\gensim\\utils.py:1197: UserWarning: detected Windows; aliasing chunkize to chunkize_serial\n",
      "  warnings.warn(\"detected Windows; aliasing chunkize to chunkize_serial\")\n"
     ]
    }
   ],
   "source": [
    "from sklearn import model_selection, preprocessing, linear_model, naive_bayes, metrics, svm\n",
    "from sklearn.feature_extraction.text import TfidfVectorizer, CountVectorizer\n",
    "from sklearn import decomposition, ensemble\n",
    "\n",
    "import pandas, xgboost, numpy, textblob, string\n",
    "from keras.preprocessing import text, sequence\n",
    "from keras import layers, models, optimizers\n",
    "\n",
    "import logging\n",
    "import pandas as pd\n",
    "import numpy as np\n",
    "from numpy import random\n",
    "import gensim\n",
    "import nltk\n",
    "from sklearn.model_selection import train_test_split\n",
    "from sklearn.feature_extraction.text import CountVectorizer, TfidfVectorizer\n",
    "from sklearn.metrics import accuracy_score, confusion_matrix"
   ]
  },
  {
   "cell_type": "code",
   "execution_count": 117,
   "metadata": {},
   "outputs": [],
   "source": [
    "import re\n",
    "def cleaning (txt):\n",
    "    \n",
    "   \n",
    "    a = ['خاص للحدود',\n",
    "         ' ليتها ',\n",
    "         ' سيكون قسم التعليقات متاحاً خلال بضعة أيّام ',\n",
    "         ' سيكون قسم التعليقات متاحا  خلال بضعة ',\n",
    "         ' وقعت على الأرض ضحكاً ',\n",
    "         ' ضحكت دون أن أقع على الأرض ',\n",
    "         ' مؤلم ',\n",
    "         ' إبداع ',\n",
    "         ' تجاوزت الحدود  ',\n",
    "         ' غبي ',\n",
    "         'المذكور أعلاه ',\n",
    "         'سيكون قسم التعليقات متاحاً خلال بضعة أيّام ',\n",
    "         '!',\n",
    "         \"''\",\n",
    "         ',',\n",
    "         ':',\n",
    "         '``',\n",
    "         '،',\n",
    "         '؟',\n",
    "         '||',\n",
    "         '٪',\n",
    "         'سيكون قسم التعليقات متاحاً خلال بضعة أيّام',\n",
    "         ' الحدود ',\n",
    "         'ليتها',\n",
    "         'كاريكاتير',\n",
    "         ' آآآآآآآمين ',\n",
    "         ' آآآه ',\n",
    "         ' آآآآآخ ',\n",
    "         'آآآآآآو ',\n",
    "         '(',\n",
    "         '=',\n",
    "         '.',\n",
    "         '[]',\n",
    "         ')',\n",
    "         ';',\n",
    "         '{}',\n",
    "         \"“\",\n",
    "         \"”\",\n",
    "         '-',\n",
    "         '\"',\n",
    "         '/',\n",
    "         \"'\",\n",
    "         '&#',\n",
    "         '#',\n",
    "         '&',\n",
    "         '%',\n",
    "         '{ }',\n",
    "         ' قد ',\n",
    "         ' أن ',\n",
    "         ' إن ',\n",
    "         ' إلا ',\n",
    "         ' تماماً ',\n",
    "         ':'\n",
    "         \n",
    "         \n",
    "        \n",
    "        \"كانون الأول\",\"تشرين الثاني\", ''\n",
    "         ,\"تشرين الأول \",\" أيلول\",\"تموز\",\" حزيران \",\" أيار\",\" نيسان \",\"كانون الثاني\", \" شباط \",' أغسطس آب ',' بي بي سي ',\" آذار \",\n",
    "         \"BBC Arabic\", \"content=\", \"الرئيسية\", \"الشرق الأوسط\"\n",
    "         , \"شارك برأيك\", \"اقتصاد وأعمال\", \"/>\", \"علوم وتكنولوجيا\",\"منوعات\", \"العالم\", \"سؤال وجواب:\"\n",
    "         , \" راديو وتلفزيون\"\n",
    "         ,  \"GMT\",'رياضة', \" - - \" ,'؟', '.',\"''\",',',':','``','=','،','-', \n",
    "         \" آخر تحديث\",\"بالصور\",\"تشرين\", \"الثاني\", \"2009\", \"2010\", \"حزيران\", \"BBCArabic.com\", \"كانون\", ' ! '\n",
    "        ]\n",
    "    for word in a:\n",
    "        txt = txt.replace(word,'')\n",
    "       \n",
    "    p_tashkeel = re.compile(r'[\\u0617-\\u061A\\u064B-\\u0652]')\n",
    "    txt = re.sub(p_tashkeel,\"\", txt)#remove tashkeel (diactritics)\n",
    "    txt = re.sub(r'\\d+', ' ', txt) #substituting digits with 'number'\n",
    "    txt = re.sub(r'[a-zA-Z]+', ' ', txt, flags=re.I) #deleting english letters\n",
    "    txt = re.sub(r'\\W', ' ', txt, flags = re.I) # remove sepcial characters\n",
    "    txt = re.sub(r'\\s+', ' ', txt) #Substituting multiple spaces with single space\n",
    "    #txt = re.sub(r'(?:^| )\\w(?:$| )', ' ', txt) #Substituting single characters\n",
    "    #txt = re.sub(r'(\\s+[a-zA-Z]\\s+)', ' ', txt) #Substituting single characters\n",
    "    \n",
    "\n",
    "\n",
    "\n",
    "    return txt\n"
   ]
  },
  {
   "cell_type": "code",
   "execution_count": 118,
   "metadata": {},
   "outputs": [],
   "source": [
    "df['text'] = df['text'].apply(cleaning)"
   ]
  },
  {
   "cell_type": "code",
   "execution_count": 119,
   "metadata": {},
   "outputs": [
    {
     "data": {
      "text/plain": [
       "0        ا مقتل ثلاثة جنود المان في افغانستان مقتل ثلا...\n",
       "1        حركة العدل والمساواة تفرج عن ستين من عناصر ال...\n",
       "2        ا باكستان المحكمة العليا تهد بسجن رئيس مكتب م...\n",
       "3       الأسطورة الحي ة كريم بنزيما يمت ع الجماهير بلم...\n",
       "4               باحث فرنسي مارين لوبان من نسل النبي محمد \n",
       "5       انخفاض حاد لمنسوب الشباب لدى اليافعين أثبت مرك...\n",
       "6        أم تستخدم مسدسا صاعقا لإيقاظ ابنها لحضور الصل...\n",
       "7        اليمن مقتل ثلاثة جنود في محافظة شبوة على أيدي...\n",
       "8        ا بريطانيا وفرنسا تقترحان صندوقا لمناخ في قمة...\n",
       "9        الاتحاد الأوروبي يحث إسرائيل على وقف الاستيطا...\n",
       "10      إنقاذ كاتب في حاول الانتحار هربا من شتائم القر...\n",
       "11       قمة اقتصادية إسلامية في تركيا اليوم تستضيف تر...\n",
       "12       ماذا يحدث في اليمن لو وجد المرء نفسه في صنعاء...\n",
       "13      موظ ف حكومي يضطر لنوم باكرا كونه لم يحصل على ق...\n",
       "14      هلي ل يجبر على الاستقالة بعدنسي الدعاء لحكام ا...\n",
       "15      الحكومة تؤك د دعمها وتشجيعها التام لأقلي ات في...\n",
       "16      سعودي لا يزال يتحدث عن الحقوق والحري ات رغم وج...\n",
       "17       ا اتهام أمريكي بتزويد القاعدة بمعلومات عن أنظ...\n",
       "18       واشنطن وبكين تطالبان طهران بضمانات بشان برنام...\n",
       "19       ا تحذير من احتمال ارتفاع عمليات القرصنة البحر...\n",
       "20       طرق لاختفاء دون ترك أي أثر إليك عزيزي القارئ ...\n",
       "21       قافلة مساعدات شريان الحياة البريطانية تصل لغز...\n",
       "22       مدفيديف يجري مباحثات مع مبارك في القاهرة الرئ...\n",
       "23      وقف إطلاق نار في سوريا استعدادا لبدء بإطلاق نا...\n",
       "24      مرشح ثالث يتقدم لرئاسة مصر ضد مبارك المعارضة ا...\n",
       "25      معتقلون إسلاميون أردنيون يواصلون إضرابهم عن ال...\n",
       "26       ا اوباما يطالب الديمقراطين بدعم مشروع الرعاية...\n",
       "27       دعوات لتطبيق حد قطع اليد على السارق بايران سي...\n",
       "28       رئيس الوزراء العراقي يأمر بمراجعة أمنية في أع...\n",
       "29       إختبارات اعرف أي من حك ام العرب يرقد بداخلك _ _ \n",
       "                              ...                        \n",
       "6865     نتنياهو يتحدث عن تحقيق تقدم في محادثاته بواشن...\n",
       "6866     ا القادة الافارقة يتفقون على اقامة محكمة خاصة...\n",
       "6867     ايران وسورية تنفيان الاتهامات الاسرائيلية بشا...\n",
       "6868     ا مقتل اربعة جنود غربين في افغانستان مسؤولون ...\n",
       "6869     ميتشل في القاهرة لقاء الرئيس مبارك مبعوث الرئ...\n",
       "6870     تسمح لموظفيها بيوم إجازة احتفالا بعيد العمال ...\n",
       "6871     جورجيا توسط الأوروبيين في علاقتها المتوترة مع...\n",
       "6872     وزير الخارجية الألماني في زيارة مفاجئة ليمن ق...\n",
       "6873     البيئة تدعو لعدم حرق اطارات السيارات في الموا...\n",
       "6874    بنيامين نتانياهو يؤكد وقوفه مع حل الدولة الفلس...\n",
       "6875    شاب ينك ت عن قباحة فتيات جامعته وكأنه لم يرى ن...\n",
       "6876     ميتشيل يجري مباحثات مع نتنياهو في القدس عقد ا...\n",
       "6877     ا تقرير باكستاني الجماعات الاسلامية توسع عملي...\n",
       "6878     الاتحاد الأوروبي يرفض تطبيق الإعفاءات الجمركي...\n",
       "6879    بريطانيا تكمل تحو لها من الإمبراطورية التي لا ...\n",
       "6880    مواطن يتمن ى لو كان ثريا ليستطيع التهر ب من دف...\n",
       "6881     ا التحدي الباكستاني في وزيرستان الجيش الباكست...\n",
       "6882    السلطات تلقي القبض على مدير مكافحة الفساد بتهم...\n",
       "6883     ا مبيكي يدعو إلى الى تبني مقاربة شاملة جديدة ...\n",
       "6884     البشير يدعو متمردي دارفور إلى المشاركة في الج...\n",
       "6885     ترامب أكبر نعمتين في حياتي رجاحة العقل وشدة ا...\n",
       "6886     خذل غزة بقاء الحصار في ذكرى مرور عام على حرب ...\n",
       "6887    قمة عربية طارئة لبحث كيفية تطبيق التجربة البري...\n",
       "6888     طهران تقل من شأن تقرير وكالة الطاقة ايران تقل...\n",
       "6889    الولايات المتحدة تشكو لمجلس الأمن إطلاق صواريخ...\n",
       "6890     ا واشنطن تدين بث طالبان لقطات تظهر الجندي الا...\n",
       "6891     الملف النوي الايراني سؤال وجو اجوبة على أهم ا...\n",
       "6892    الاحتلال يجتاح بلدتين قرب طولكرم والفلسطينيون ...\n",
       "6893    انخفاض نسبة البطالة في مدينة الرمادي إلى ما دو...\n",
       "6894     السيسي لو أخذنا من كل موظف جنيه واحد هنوصل لـ...\n",
       "Name: text, Length: 6895, dtype: object"
      ]
     },
     "execution_count": 119,
     "metadata": {},
     "output_type": "execute_result"
    }
   ],
   "source": [
    "df['text']"
   ]
  },
  {
   "cell_type": "code",
   "execution_count": 120,
   "metadata": {},
   "outputs": [
    {
     "data": {
      "text/plain": [
       "Unnamed: 0    0\n",
       "text          0\n",
       "Label         0\n",
       "dtype: int64"
      ]
     },
     "execution_count": 120,
     "metadata": {},
     "output_type": "execute_result"
    }
   ],
   "source": [
    "df.isnull().sum()"
   ]
  },
  {
   "cell_type": "code",
   "execution_count": 121,
   "metadata": {},
   "outputs": [],
   "source": [
    "from sklearn.model_selection import train_test_split\n",
    "\n",
    "# split complete dataset in train-test with ratio 80-20 respectively\n",
    "\n",
    "X_train, X_test, y_train, y_test = train_test_split(df['text'], df['Label'], test_size=0.2, random_state=1)\n",
    "\n",
    "\n",
    "# again split train data in train-validation with 90-10 ratio respectively\n",
    "\n",
    "X_train, X_val, y_train, y_val = train_test_split(X_train, y_train, test_size=0.1, random_state=1)"
   ]
  },
  {
   "cell_type": "code",
   "execution_count": 122,
   "metadata": {},
   "outputs": [],
   "source": [
    "# label encode the target variable \n",
    "encoder = preprocessing.LabelEncoder()\n",
    "train_y = encoder.fit_transform(y_train)\n",
    "valid_y = encoder.fit_transform(y_val)\n",
    "test_y = encoder.fit_transform( y_test)\n"
   ]
  },
  {
   "cell_type": "code",
   "execution_count": 123,
   "metadata": {},
   "outputs": [],
   "source": [
    "# create a count vectorizer object \n",
    "count_vect = CountVectorizer(analyzer='word', token_pattern=r'\\w{1,}')\n",
    "count_vect.fit(df['text'])\n",
    "\n",
    "# transform the training and validation data using count vectorizer object\n",
    "xtrain_count =  count_vect.transform(X_train)\n",
    "xvalid_count =  count_vect.transform(X_val)\n",
    "xtest_count = count_vect.transform(X_test)"
   ]
  },
  {
   "cell_type": "code",
   "execution_count": 124,
   "metadata": {},
   "outputs": [],
   "source": [
    "# word level tf-idf\n",
    "tfidf_vect = TfidfVectorizer(analyzer='word', token_pattern=r'\\w{1,}', max_features=1500)\n",
    "tfidf_vect.fit(df['text'])\n",
    "xtrain_tfidf =  tfidf_vect.transform(X_train)\n",
    "xvalid_tfidf =  tfidf_vect.transform(X_val)\n",
    "xtest_tfidf =  tfidf_vect.transform(X_test)\n",
    "# ngram level tf-idf \n",
    "tfidf_vect_ngram = TfidfVectorizer(analyzer='word', token_pattern=r'\\w{1,}', ngram_range=(2,3), max_features=1500)\n",
    "tfidf_vect_ngram.fit(df['text'])\n",
    "xtrain_tfidf_ngram =  tfidf_vect_ngram.transform(X_train)\n",
    "xvalid_tfidf_ngram =  tfidf_vect_ngram.transform(X_val)\n",
    "xtest_tfidf_ngram =  tfidf_vect_ngram.transform(X_test)\n",
    "# characters level tf-idf\n",
    "tfidf_vect_ngram_chars = TfidfVectorizer(analyzer='char', token_pattern=r'\\w{1,}', ngram_range=(2,3), max_features=1500)\n",
    "tfidf_vect_ngram_chars.fit(df['text'])\n",
    "xtrain_tfidf_ngram_chars =  tfidf_vect_ngram_chars.transform(X_train) \n",
    "xvalid_tfidf_ngram_chars =  tfidf_vect_ngram_chars.transform(X_val)\n",
    "xtest_tfidf_ngram_chars =  tfidf_vect_ngram_chars.transform(X_test) "
   ]
  },
  {
   "cell_type": "code",
   "execution_count": 125,
   "metadata": {},
   "outputs": [],
   "source": [
    "from sklearn import metrics\n",
    "from sklearn.metrics import accuracy_score, confusion_matrix,classification_report\n",
    "def train_model(classifier, feature_vector_train, label, feature_vector_valid,test, is_neural_net=False):\n",
    "    # fit the training dataset on the classifier\n",
    "    classifier.fit(feature_vector_train, label)\n",
    "    \n",
    "    # predict the labels on validation dataset\n",
    "    predictions = classifier.predict(feature_vector_valid)\n",
    "    \n",
    "    if is_neural_net:\n",
    "        predictions = predictions.argmax(axis=-1)\n",
    "    acc = metrics.accuracy_score(valid_y,predictions)    \n",
    "    confusion = confusion_matrix(valid_y,predictions)\n",
    "    report = classification_report(predictions, valid_y, target_names=['fake', 'Real'],digits=4)\n",
    "    test_precit = classifier.predict(test)\n",
    "    acc_test = metrics.accuracy_score(test_y,test_precit)\n",
    "    confusion_test = confusion_matrix(test_y,test_precit)\n",
    "    test_report = classification_report(test_precit, test_y, target_names=['fake', 'Real'],digits=4)\n",
    "    #print(\"Total score for {} is {}\".format(name, score))\n",
    "    return print( 'train_acc {} \\n confusion_tain {} \\n\\n train_report {} \\n \\n acc_test {} \\n confusion_test {} \\n  {}'.format(acc,confusion,report,acc_test,confusion_test,test_report)) \n"
   ]
  },
  {
   "cell_type": "code",
   "execution_count": 126,
   "metadata": {},
   "outputs": [
    {
     "name": "stdout",
     "output_type": "stream",
     "text": [
      "train_acc 0.9384057971014492 \n",
      " confusion_tain [[271   1]\n",
      " [ 33 247]] \n",
      "\n",
      " train_report              precision    recall  f1-score   support\n",
      "\n",
      "       fake     0.9963    0.8914    0.9410       304\n",
      "       Real     0.8821    0.9960    0.9356       248\n",
      "\n",
      "avg / total     0.9450    0.9384    0.9386       552\n",
      " \n",
      " \n",
      " acc_test 0.9572153734590283 \n",
      " confusion_test [[726   2]\n",
      " [ 57 594]] \n",
      "               precision    recall  f1-score   support\n",
      "\n",
      "       fake     0.9973    0.9272    0.9610       783\n",
      "       Real     0.9124    0.9966    0.9527       596\n",
      "\n",
      "avg / total     0.9606    0.9572    0.9574      1379\n",
      "\n",
      "None NB, Count Vectors: \n",
      "train_acc 0.9420289855072463 \n",
      " confusion_tain [[269   3]\n",
      " [ 29 251]] \n",
      "\n",
      " train_report              precision    recall  f1-score   support\n",
      "\n",
      "       fake     0.9890    0.9027    0.9439       298\n",
      "       Real     0.8964    0.9882    0.9401       254\n",
      "\n",
      "avg / total     0.9464    0.9420    0.9421       552\n",
      " \n",
      " \n",
      " acc_test 0.9499637418419145 \n",
      " confusion_test [[711  17]\n",
      " [ 52 599]] \n",
      "               precision    recall  f1-score   support\n",
      "\n",
      "       fake     0.9766    0.9318    0.9537       763\n",
      "       Real     0.9201    0.9724    0.9455       616\n",
      "\n",
      "avg / total     0.9514    0.9500    0.9501      1379\n",
      "\n",
      "NB, WordLevel TF-IDF:  None\n",
      "train_acc 0.842391304347826 \n",
      " confusion_tain [[261  11]\n",
      " [ 76 204]] \n",
      "\n",
      " train_report              precision    recall  f1-score   support\n",
      "\n",
      "       fake     0.9596    0.7745    0.8571       337\n",
      "       Real     0.7286    0.9488    0.8242       215\n",
      "\n",
      "avg / total     0.8696    0.8424    0.8443       552\n",
      " \n",
      " \n",
      " acc_test 0.889050036258158 \n",
      " confusion_test [[705  23]\n",
      " [130 521]] \n",
      "               precision    recall  f1-score   support\n",
      "\n",
      "       fake     0.9684    0.8443    0.9021       835\n",
      "       Real     0.8003    0.9577    0.8720       544\n",
      "\n",
      "avg / total     0.9021    0.8891    0.8902      1379\n",
      "\n",
      "NB, N-Gram Vectors:  None\n",
      "train_acc 0.9039855072463768 \n",
      " confusion_tain [[263   9]\n",
      " [ 44 236]] \n",
      "\n",
      " train_report              precision    recall  f1-score   support\n",
      "\n",
      "       fake     0.9669    0.8567    0.9085       307\n",
      "       Real     0.8429    0.9633    0.8990       245\n",
      "\n",
      "avg / total     0.9119    0.9040    0.9043       552\n",
      " \n",
      " \n",
      " acc_test 0.9231327048585932 \n",
      " confusion_test [[700  28]\n",
      " [ 78 573]] \n",
      "               precision    recall  f1-score   support\n",
      "\n",
      "       fake     0.9615    0.8997    0.9296       778\n",
      "       Real     0.8802    0.9534    0.9153       601\n",
      "\n",
      "avg / total     0.9261    0.9231    0.9234      1379\n",
      "\n",
      "NB, CharLevel Vectors:  None\n"
     ]
    }
   ],
   "source": [
    "# Naive Bayes on Count Vectors third round\n",
    "from sklearn.metrics import classification_report\n",
    "accuracy = train_model(naive_bayes.MultinomialNB(), xtrain_count, train_y, xvalid_count,xtest_count)\n",
    "print ( accuracy,\"NB, Count Vectors: \")\n",
    "\n",
    "# Naive Bayes on Word Level TF IDF Vectors\n",
    "accuracy = train_model(naive_bayes.MultinomialNB(), xtrain_tfidf, train_y, xvalid_tfidf,xtest_tfidf)\n",
    "print (\"NB, WordLevel TF-IDF: \", accuracy)\n",
    "\n",
    "# Naive Bayes on Ngram Level TF IDF Vectors\n",
    "accuracy = train_model(naive_bayes.MultinomialNB(), xtrain_tfidf_ngram, train_y, xvalid_tfidf_ngram,xtest_tfidf_ngram)\n",
    "print (\"NB, N-Gram Vectors: \", accuracy)\n",
    "\n",
    "# Naive Bayes on Character Level TF IDF Vectors\n",
    "accuracy = train_model(naive_bayes.MultinomialNB(), xtrain_tfidf_ngram_chars, train_y, xvalid_tfidf_ngram_chars,xtest_tfidf_ngram_chars)\n",
    "print( \"NB, CharLevel Vectors: \", accuracy)"
   ]
  },
  {
   "cell_type": "code",
   "execution_count": 21,
   "metadata": {},
   "outputs": [
    {
     "name": "stdout",
     "output_type": "stream",
     "text": [
      "train_acc 0.9784313725490196 \n",
      " confusion_tain [[256   0]\n",
      " [ 11 243]] \n",
      " report_train              precision    recall  f1-score   support\n",
      "\n",
      "       fake     1.0000    0.9588    0.9790       267\n",
      "       Real     0.9567    1.0000    0.9779       243\n",
      "\n",
      "avg / total     0.9794    0.9784    0.9784       510\n",
      "\n",
      " acc_test 0.9693877551020408 \n",
      " confusion_test [[631   3]\n",
      " [ 36 604]] \n",
      " test_report              precision    recall  f1-score   support\n",
      "\n",
      "       fake     0.9953    0.9460    0.9700       667\n",
      "       Real     0.9437    0.9951    0.9687       607\n",
      "\n",
      "avg / total     0.9707    0.9694    0.9694      1274\n",
      "\n",
      "None NB, Count Vectors: \n",
      "train_acc 0.9372549019607843 \n",
      " confusion_tain [[244  12]\n",
      " [ 20 234]] \n",
      " report_train              precision    recall  f1-score   support\n",
      "\n",
      "       fake     0.9531    0.9242    0.9385       264\n",
      "       Real     0.9213    0.9512    0.9360       246\n",
      "\n",
      "avg / total     0.9378    0.9373    0.9373       510\n",
      "\n",
      " acc_test 0.9513343799058085 \n",
      " confusion_test [[614  20]\n",
      " [ 42 598]] \n",
      " test_report              precision    recall  f1-score   support\n",
      "\n",
      "       fake     0.9685    0.9360    0.9519       656\n",
      "       Real     0.9344    0.9676    0.9507       618\n",
      "\n",
      "avg / total     0.9519    0.9513    0.9513      1274\n",
      "\n",
      "NB, WordLevel TF-IDF:  None\n",
      "train_acc 0.8921568627450981 \n",
      " confusion_tain [[246  10]\n",
      " [ 45 209]] \n",
      " report_train              precision    recall  f1-score   support\n",
      "\n",
      "       fake     0.9609    0.8454    0.8995       291\n",
      "       Real     0.8228    0.9543    0.8837       219\n",
      "\n",
      "avg / total     0.9016    0.8922    0.8927       510\n",
      "\n",
      " acc_test 0.8822605965463108 \n",
      " confusion_test [[614  20]\n",
      " [130 510]] \n",
      " test_report              precision    recall  f1-score   support\n",
      "\n",
      "       fake     0.9685    0.8253    0.8911       744\n",
      "       Real     0.7969    0.9623    0.8718       530\n",
      "\n",
      "avg / total     0.8971    0.8823    0.8831      1274\n",
      "\n",
      "NB, N-Gram Vectors:  None\n",
      "train_acc 0.9235294117647059 \n",
      " confusion_tain [[235  21]\n",
      " [ 18 236]] \n",
      " report_train              precision    recall  f1-score   support\n",
      "\n",
      "       fake     0.9180    0.9289    0.9234       253\n",
      "       Real     0.9291    0.9183    0.9237       257\n",
      "\n",
      "avg / total     0.9236    0.9235    0.9235       510\n",
      "\n",
      " acc_test 0.9309262166405023 \n",
      " confusion_test [[596  38]\n",
      " [ 50 590]] \n",
      " test_report              precision    recall  f1-score   support\n",
      "\n",
      "       fake     0.9401    0.9226    0.9313       646\n",
      "       Real     0.9219    0.9395    0.9306       628\n",
      "\n",
      "avg / total     0.9311    0.9309    0.9309      1274\n",
      "\n",
      "NB, CharLevel Vectors:  None\n"
     ]
    }
   ],
   "source": [
    "# Naive Bayes on Count Vectors new\n",
    "from sklearn.metrics import classification_report\n",
    "accuracy = train_model(naive_bayes.MultinomialNB(), xtrain_count, train_y, xvalid_count,xtest_count)\n",
    "print ( accuracy,\"NB, Count Vectors: \")\n",
    "\n",
    "# Naive Bayes on Word Level TF IDF Vectors\n",
    "accuracy = train_model(naive_bayes.MultinomialNB(), xtrain_tfidf, train_y, xvalid_tfidf,xtest_tfidf)\n",
    "print (\"NB, WordLevel TF-IDF: \", accuracy)\n",
    "\n",
    "# Naive Bayes on Ngram Level TF IDF Vectors\n",
    "accuracy = train_model(naive_bayes.MultinomialNB(), xtrain_tfidf_ngram, train_y, xvalid_tfidf_ngram,xtest_tfidf_ngram)\n",
    "print (\"NB, N-Gram Vectors: \", accuracy)\n",
    "\n",
    "# Naive Bayes on Character Level TF IDF Vectors\n",
    "accuracy = train_model(naive_bayes.MultinomialNB(), xtrain_tfidf_ngram_chars, train_y, xvalid_tfidf_ngram_chars,xtest_tfidf_ngram_chars)\n",
    "print( \"NB, CharLevel Vectors: \", accuracy)"
   ]
  },
  {
   "cell_type": "code",
   "execution_count": 59,
   "metadata": {},
   "outputs": [
    {
     "name": "stdout",
     "output_type": "stream",
     "text": [
      "train_acc 0.9668615984405458 \n",
      " confusion_tain [[231   2]\n",
      " [ 15 265]] \n",
      " report_train              precision    recall  f1-score   support\n",
      "\n",
      "       fake     0.9914    0.9390    0.9645       246\n",
      "       Real     0.9464    0.9925    0.9689       267\n",
      "\n",
      "avg / total     0.9680    0.9669    0.9668       513\n",
      "\n",
      " acc_test 0.961028838659392 \n",
      " confusion_test [[620   3]\n",
      " [ 47 613]] \n",
      " test_report              precision    recall  f1-score   support\n",
      "\n",
      "       fake     0.9952    0.9295    0.9612       667\n",
      "       Real     0.9288    0.9951    0.9608       616\n",
      "\n",
      "avg / total     0.9633    0.9610    0.9610      1283\n",
      "\n",
      "None NB, Count Vectors: \n",
      "train_acc 0.9454191033138402 \n",
      " confusion_tain [[226   7]\n",
      " [ 21 259]] \n",
      " report_train              precision    recall  f1-score   support\n",
      "\n",
      "       fake     0.9700    0.9150    0.9417       247\n",
      "       Real     0.9250    0.9737    0.9487       266\n",
      "\n",
      "avg / total     0.9466    0.9454    0.9453       513\n",
      "\n",
      " acc_test 0.9594699922057678 \n",
      " confusion_test [[605  18]\n",
      " [ 34 626]] \n",
      " test_report              precision    recall  f1-score   support\n",
      "\n",
      "       fake     0.9711    0.9468    0.9588       639\n",
      "       Real     0.9485    0.9720    0.9601       644\n",
      "\n",
      "avg / total     0.9598    0.9595    0.9595      1283\n",
      "\n",
      "NB, WordLevel TF-IDF:  None\n",
      "train_acc 0.8518518518518519 \n",
      " confusion_tain [[229   4]\n",
      " [ 72 208]] \n",
      " report_train              precision    recall  f1-score   support\n",
      "\n",
      "       fake     0.9828    0.7608    0.8577       301\n",
      "       Real     0.7429    0.9811    0.8455       212\n",
      "\n",
      "avg / total     0.8837    0.8519    0.8527       513\n",
      "\n",
      " acc_test 0.8862042088854248 \n",
      " confusion_test [[601  22]\n",
      " [124 536]] \n",
      " test_report              precision    recall  f1-score   support\n",
      "\n",
      "       fake     0.9647    0.8290    0.8917       725\n",
      "       Real     0.8121    0.9606    0.8801       558\n",
      "\n",
      "avg / total     0.8983    0.8862    0.8867      1283\n",
      "\n",
      "NB, N-Gram Vectors:  None\n",
      "train_acc 0.9278752436647173 \n",
      " confusion_tain [[225   8]\n",
      " [ 29 251]] \n",
      " report_train              precision    recall  f1-score   support\n",
      "\n",
      "       fake     0.9657    0.8858    0.9240       254\n",
      "       Real     0.8964    0.9691    0.9314       259\n",
      "\n",
      "avg / total     0.9307    0.9279    0.9277       513\n",
      "\n",
      " acc_test 0.9446609508963367 \n",
      " confusion_test [[596  27]\n",
      " [ 44 616]] \n",
      " test_report              precision    recall  f1-score   support\n",
      "\n",
      "       fake     0.9567    0.9313    0.9438       640\n",
      "       Real     0.9333    0.9580    0.9455       643\n",
      "\n",
      "avg / total     0.9450    0.9447    0.9446      1283\n",
      "\n",
      "NB, CharLevel Vectors:  None\n"
     ]
    }
   ],
   "source": [
    "# Naive Bayes on Count Vectors\n",
    "from sklearn.metrics import classification_report\n",
    "accuracy = train_model(naive_bayes.MultinomialNB(), xtrain_count, train_y, xvalid_count,xtest_count)\n",
    "print ( accuracy,\"NB, Count Vectors: \")\n",
    "\n",
    "# Naive Bayes on Word Level TF IDF Vectors\n",
    "accuracy = train_model(naive_bayes.MultinomialNB(), xtrain_tfidf, train_y, xvalid_tfidf,xtest_tfidf)\n",
    "print (\"NB, WordLevel TF-IDF: \", accuracy)\n",
    "\n",
    "# Naive Bayes on Ngram Level TF IDF Vectors\n",
    "accuracy = train_model(naive_bayes.MultinomialNB(), xtrain_tfidf_ngram, train_y, xvalid_tfidf_ngram,xtest_tfidf_ngram)\n",
    "print (\"NB, N-Gram Vectors: \", accuracy)\n",
    "\n",
    "# Naive Bayes on Character Level TF IDF Vectors\n",
    "accuracy = train_model(naive_bayes.MultinomialNB(), xtrain_tfidf_ngram_chars, train_y, xvalid_tfidf_ngram_chars,xtest_tfidf_ngram_chars)\n",
    "print( \"NB, CharLevel Vectors: \", accuracy)"
   ]
  },
  {
   "cell_type": "markdown",
   "metadata": {},
   "source": [
    "# segmented cnn and jazeera"
   ]
  },
  {
   "cell_type": "code",
   "execution_count": 63,
   "metadata": {},
   "outputs": [],
   "source": [
    "import glob\n",
    "import pandas as pd\n",
    "files1 = glob.glob('C:/Users/sadan/OneDrive/google_drive/fake_data/fake/*.segmented', recursive=True)\n"
   ]
  },
  {
   "cell_type": "code",
   "execution_count": 64,
   "metadata": {},
   "outputs": [],
   "source": [
    "ls1 = []\n",
    "for file in files1:\n",
    "    data1 = open(file, 'r',encoding='utf8')\n",
    "    f1 = ls1.append(data1.read())"
   ]
  },
  {
   "cell_type": "code",
   "execution_count": 65,
   "metadata": {},
   "outputs": [
    {
     "data": {
      "text/plain": [
       "3185"
      ]
     },
     "execution_count": 65,
     "metadata": {},
     "output_type": "execute_result"
    }
   ],
   "source": [
    "len(ls1)"
   ]
  },
  {
   "cell_type": "code",
   "execution_count": 26,
   "metadata": {},
   "outputs": [],
   "source": [
    "# import os    \n",
    "# from chardet import detect\n",
    "\n",
    "# # get file encoding type\n",
    "# def get_encoding_type(file):\n",
    "#     with open(file, 'rb') as f:\n",
    "#         rawdata = f.read()\n",
    "#     return detect(rawdata)['encoding']\n",
    "# i= 0\n",
    "# for file in files3:\n",
    "#     i+=1\n",
    "#     from_codec = get_encoding_type(file)\n",
    "#     trgfile = 'coverted'+str(i) +'.txt'\n",
    "\n",
    "#     # add try: except block for reliability\n",
    "#     try: \n",
    "#         with open(file, 'r', encoding=from_codec) as f, open(trgfile, 'w', encoding='utf-8') as e:\n",
    "#             text = f.read() # for small files, for big use chunks\n",
    "#             e.write(text)\n",
    "\n",
    "#         os.remove(file) # remove old encoding file\n",
    "#         os.rename(trgfile, file) # rename new encoding\n",
    "#     except UnicodeDecodeError:\n",
    "#         print('Decode Error')\n",
    "#     except UnicodeEncodeError:\n",
    "#         print('Encode Error')"
   ]
  },
  {
   "cell_type": "code",
   "execution_count": 66,
   "metadata": {},
   "outputs": [
    {
     "data": {
      "text/plain": [
       "3710"
      ]
     },
     "execution_count": 66,
     "metadata": {},
     "output_type": "execute_result"
    }
   ],
   "source": [
    "files2 = glob.glob('C:/Users/sadan/OneDrive/google_drive/fake_data/real/*.segmented', recursive=True)\n",
    "len(files2)"
   ]
  },
  {
   "cell_type": "code",
   "execution_count": 67,
   "metadata": {},
   "outputs": [],
   "source": [
    "ls2 = []\n",
    "for file in files2:\n",
    "    data2 = open(file, 'r', encoding ='utf-8')\n",
    "    f2 = ls2.append(data2.read())"
   ]
  },
  {
   "cell_type": "code",
   "execution_count": 68,
   "metadata": {},
   "outputs": [],
   "source": [
    "dataframe1 = []\n",
    "for l in ls1:\n",
    "    dataframe1.append([l,'fake'])\n",
    "df1 = pd.DataFrame(dataframe1, columns = ['text', 'Label'])\n"
   ]
  },
  {
   "cell_type": "code",
   "execution_count": 69,
   "metadata": {},
   "outputs": [],
   "source": [
    "dataframe2 = []\n",
    "for l in ls2:\n",
    "    dataframe2.append([l,'Real'])\n",
    "df2 = pd.DataFrame(dataframe2, columns = ['text', 'Label'])"
   ]
  },
  {
   "cell_type": "code",
   "execution_count": 70,
   "metadata": {},
   "outputs": [],
   "source": [
    "all_data = df1.append(df2)"
   ]
  },
  {
   "cell_type": "code",
   "execution_count": 71,
   "metadata": {},
   "outputs": [
    {
     "data": {
      "text/plain": [
       "6895"
      ]
     },
     "execution_count": 71,
     "metadata": {},
     "output_type": "execute_result"
    }
   ],
   "source": [
    "len(all_data)"
   ]
  },
  {
   "cell_type": "code",
   "execution_count": 72,
   "metadata": {},
   "outputs": [
    {
     "data": {
      "text/html": [
       "<div>\n",
       "<style scoped>\n",
       "    .dataframe tbody tr th:only-of-type {\n",
       "        vertical-align: middle;\n",
       "    }\n",
       "\n",
       "    .dataframe tbody tr th {\n",
       "        vertical-align: top;\n",
       "    }\n",
       "\n",
       "    .dataframe thead th {\n",
       "        text-align: right;\n",
       "    }\n",
       "</style>\n",
       "<table border=\"1\" class=\"dataframe\">\n",
       "  <thead>\n",
       "    <tr style=\"text-align: right;\">\n",
       "      <th></th>\n",
       "      <th>text</th>\n",
       "      <th>Label</th>\n",
       "    </tr>\n",
       "  </thead>\n",
       "  <tbody>\n",
       "    <tr>\n",
       "      <th>0</th>\n",
       "      <td>تحليل ال+سيسي ال+رقم ال+صعب فى مؤتمر ال+عشر+ين...</td>\n",
       "      <td>fake</td>\n",
       "    </tr>\n",
       "    <tr>\n",
       "      <th>1</th>\n",
       "      <td>طالب توجيهي ي+كتشف حب+ه ل+م+تابع+ة ال+نشر+ة ال...</td>\n",
       "      <td>fake</td>\n",
       "    </tr>\n",
       "    <tr>\n",
       "      <th>2</th>\n",
       "      <td>عانس ت+جد عريس+ا رغم بلوغ+ها سن ال+رابع+ة و+ال...</td>\n",
       "      <td>fake</td>\n",
       "    </tr>\n",
       "    <tr>\n",
       "      <th>3</th>\n",
       "      <td>ال+تنمي+ة لم ن+ضبط متسول+ين ب+أول أيام رمضان ب...</td>\n",
       "      <td>fake</td>\n",
       "    </tr>\n",
       "    <tr>\n",
       "      <th>4</th>\n",
       "      <td>شاب ي+نزعج من خبر تفجير رغم وقوع+ه ك+ال+معتاد ...</td>\n",
       "      <td>fake</td>\n",
       "    </tr>\n",
       "  </tbody>\n",
       "</table>\n",
       "</div>"
      ],
      "text/plain": [
       "                                                text Label\n",
       "0  تحليل ال+سيسي ال+رقم ال+صعب فى مؤتمر ال+عشر+ين...  fake\n",
       "1  طالب توجيهي ي+كتشف حب+ه ل+م+تابع+ة ال+نشر+ة ال...  fake\n",
       "2  عانس ت+جد عريس+ا رغم بلوغ+ها سن ال+رابع+ة و+ال...  fake\n",
       "3  ال+تنمي+ة لم ن+ضبط متسول+ين ب+أول أيام رمضان ب...  fake\n",
       "4  شاب ي+نزعج من خبر تفجير رغم وقوع+ه ك+ال+معتاد ...  fake"
      ]
     },
     "execution_count": 72,
     "metadata": {},
     "output_type": "execute_result"
    }
   ],
   "source": [
    "all_data.head()"
   ]
  },
  {
   "cell_type": "code",
   "execution_count": 73,
   "metadata": {},
   "outputs": [],
   "source": [
    "import re\n",
    "def cleaning (txt):\n",
    "    \n",
    "   \n",
    "    a = ['خاص للحدود',\n",
    "         ' ليتها ',\n",
    "         ' سيكون قسم التعليقات متاحاً خلال بضعة أيّام ',\n",
    "         ' سيكون قسم التعليقات متاحا  خلال بضعة ',\n",
    "         ' وقعت على الأرض ضحكاً ',\n",
    "         ' ضحكت دون أن أقع على الأرض ',\n",
    "         ' مؤلم ',\n",
    "         ' إبداع ',\n",
    "         ' تجاوزت الحدود  ',\n",
    "         ' غبي ',\n",
    "         'المذكور أعلاه ',\n",
    "         'سيكون قسم التعليقات متاحاً خلال بضعة أيّام ',\n",
    "         '!',\n",
    "         \"''\",\n",
    "         ',',\n",
    "         ':',\n",
    "         '``',\n",
    "         '،',\n",
    "         '؟',\n",
    "         '||',\n",
    "         '٪',\n",
    "         'سيكون قسم التعليقات متاحاً خلال بضعة أيّام',\n",
    "         ' الحدود ',\n",
    "         'ليتها',\n",
    "         'كاريكاتير',\n",
    "         ' آآآآآآآمين ',\n",
    "         ' آآآه ',\n",
    "         ' آآآآآخ ',\n",
    "         'آآآآآآو ',\n",
    "         '(',\n",
    "         '=',\n",
    "         '.',\n",
    "         '[]',\n",
    "         ')',\n",
    "         ';',\n",
    "         '{}',\n",
    "         \"“\",\n",
    "         \"”\",\n",
    "         '-',\n",
    "         '\"',\n",
    "         '/',\n",
    "         \"'\",\n",
    "         '&#',\n",
    "         '#',\n",
    "         '&',\n",
    "         '%',\n",
    "         '{ }',\n",
    "         ' قد ',\n",
    "         ' أن ',\n",
    "         ' إن ',\n",
    "         ' إلا ',\n",
    "         ' تماماً ',\n",
    "         ':'\n",
    "         \n",
    "         \n",
    "        \n",
    "        \"كانون الأول\",\"تشرين الثاني\", ''\n",
    "         ,\"تشرين الأول \",\" أيلول\",\"تموز\",\" حزيران \",\" أيار\",\" نيسان \",\"كانون الثاني\", \" شباط \",' أغسطس آب ',' بي بي سي ',\" آذار \",\n",
    "         \"BBC Arabic\", \"content=\", \"الرئيسية\", \"الشرق الأوسط\"\n",
    "         , \"شارك برأيك\", \"اقتصاد وأعمال\", \"/>\", \"علوم وتكنولوجيا\",\"منوعات\", \"العالم\", \"سؤال وجواب:\"\n",
    "         , \" راديو وتلفزيون\"\n",
    "         ,  \"GMT\",'رياضة', \" - - \" ,'؟', '.',\"''\",',',':','``','=','،','-', \n",
    "         \" آخر تحديث\",\"بالصور\",\"تشرين\", \"الثاني\", \"2009\", \"2010\", \"حزيران\", \"BBCArabic.com\", \"كانون\", ' ! '\n",
    "        ]\n",
    "    for word in a:\n",
    "        txt = txt.replace(word,'')\n",
    "       \n",
    "    p_tashkeel = re.compile(r'[\\u0617-\\u061A\\u064B-\\u0652]')\n",
    "    txt = re.sub(p_tashkeel,\"\", txt)#remove tashkeel (diactritics)\n",
    "    txt = re.sub(r'\\d+', ' ', txt) #substituting digits with 'number'\n",
    "    txt = re.sub(r'[a-zA-Z]+', ' ', txt, flags=re.I) #deleting english letters\n",
    "    txt = re.sub(r'\\W', ' ', txt, flags = re.I) # remove sepcial characters\n",
    "    txt = re.sub(r'\\s+', ' ', txt) #Substituting multiple spaces with single space\n",
    "    #txt = re.sub(r'(?:^| )\\w(?:$| )', ' ', txt) #Substituting single characters\n",
    "    #txt = re.sub(r'(\\s+[a-zA-Z]\\s+)', ' ', txt) #Substituting single characters\n",
    "    \n",
    "\n",
    "\n",
    "\n",
    "    return txt\n"
   ]
  },
  {
   "cell_type": "code",
   "execution_count": 74,
   "metadata": {},
   "outputs": [],
   "source": [
    "all_data['text'] = all_data['text'].apply(cleaning)"
   ]
  },
  {
   "cell_type": "code",
   "execution_count": 78,
   "metadata": {},
   "outputs": [
    {
     "data": {
      "text/plain": [
       "3690    ا ال عراق عود ة ال عنف سلسل ة من ال هجم ات الت...\n",
       "3691    ا ك رزاي ي طلب من امريكا و ال عالم تمويل ال قو...\n",
       "3692    ا قتيل ا في هجوم انتحاري ب مول تان شرقي ب اكست...\n",
       "3693    ا ماكريستال زياد ة عد ال جنود ستساهم في هزيم ة...\n",
       "3694    ا ال برازيل سرق ة ملاين دول ار خلال نهائي كر ة...\n",
       "3695    ا ماكريستال لن ن دحر ال قاعد ة ما لم ن قبض على...\n",
       "3696    ا ب تريوس ال عنف و ال فوضى الى ت صاعد في افغان...\n",
       "3697    ا أوباما ن ريد فرض عقوب ات جديد ة على إيران خل...\n",
       "3698    ا أوباما ن ريد فرض عقوب ات جديد ة على إيران خل...\n",
       "3699    ا ب اكستان ال محكم ة ال عليا ت هد ب سجن رئيس م...\n",
       "3700    ا ب اكستان ال محكم ة ال عليا ت هد ب سجن رئيس م...\n",
       "3701    ا بعد تفجيري موسك و ميدفيديف ي طلب قوانين جديد...\n",
       "3702    ا بعد تفجيري موسك و ميدفيديف ي طلب قوانين جديد...\n",
       "3703    ا بوتين اعتقال ال مسؤول ين عن تفجيري موسك و مس...\n",
       "3704    ا بوتين اعتقال ال مسؤول ين عن تفجيري موسك و مس...\n",
       "3705    ا اشتباك ات بين مسلح ين صومال ين و قوات كيني ة...\n",
       "3706    ا اشتباك ات بين مسلح ين صومال ين و قوات كيني ة...\n",
       "3707    ا أوباما ي سمح ب ال تنقيب عن ال نفط على ال سوا...\n",
       "3708    ا زعيم شيشاني ي تبنى مسؤولي ة هجوم ي موسك و زع...\n",
       "3709    ا زعيم شيشاني ي تبنى مسؤولي ة هجوم ي موسك و زع...\n",
       "Name: text, dtype: object"
      ]
     },
     "execution_count": 78,
     "metadata": {},
     "output_type": "execute_result"
    }
   ],
   "source": [
    "all_data['text'][-20:]"
   ]
  },
  {
   "cell_type": "code",
   "execution_count": 79,
   "metadata": {},
   "outputs": [
    {
     "data": {
      "text/html": [
       "<div>\n",
       "<style scoped>\n",
       "    .dataframe tbody tr th:only-of-type {\n",
       "        vertical-align: middle;\n",
       "    }\n",
       "\n",
       "    .dataframe tbody tr th {\n",
       "        vertical-align: top;\n",
       "    }\n",
       "\n",
       "    .dataframe thead th {\n",
       "        text-align: right;\n",
       "    }\n",
       "</style>\n",
       "<table border=\"1\" class=\"dataframe\">\n",
       "  <thead>\n",
       "    <tr style=\"text-align: right;\">\n",
       "      <th></th>\n",
       "      <th>text</th>\n",
       "      <th>Label</th>\n",
       "    </tr>\n",
       "  </thead>\n",
       "  <tbody>\n",
       "    <tr>\n",
       "      <th>186</th>\n",
       "      <td>ال أم ال متحد ة ت ضيف أزم ة ال خليج إلى محادث ...</td>\n",
       "      <td>fake</td>\n",
       "    </tr>\n",
       "    <tr>\n",
       "      <th>2645</th>\n",
       "      <td>استبدال ال شواخص ال مروري ة في ال شوارع ب صور ...</td>\n",
       "      <td>fake</td>\n",
       "    </tr>\n",
       "    <tr>\n",
       "      <th>2965</th>\n",
       "      <td>شاب متمرد ي غادر جروب عائل ت ه على تطبيق و اتس...</td>\n",
       "      <td>fake</td>\n",
       "    </tr>\n",
       "    <tr>\n",
       "      <th>3271</th>\n",
       "      <td>ا وزير ال ثقاف ة ال فرنسي ي ثير جدل ا ب سب ميو...</td>\n",
       "      <td>Real</td>\n",
       "    </tr>\n",
       "    <tr>\n",
       "      <th>3033</th>\n",
       "      <td>مصر ت نتقد أوضاع حقوق ال إنسان و ال حري ات في ...</td>\n",
       "      <td>fake</td>\n",
       "    </tr>\n",
       "  </tbody>\n",
       "</table>\n",
       "</div>"
      ],
      "text/plain": [
       "                                                   text Label\n",
       "186   ال أم ال متحد ة ت ضيف أزم ة ال خليج إلى محادث ...  fake\n",
       "2645  استبدال ال شواخص ال مروري ة في ال شوارع ب صور ...  fake\n",
       "2965  شاب متمرد ي غادر جروب عائل ت ه على تطبيق و اتس...  fake\n",
       "3271  ا وزير ال ثقاف ة ال فرنسي ي ثير جدل ا ب سب ميو...  Real\n",
       "3033  مصر ت نتقد أوضاع حقوق ال إنسان و ال حري ات في ...  fake"
      ]
     },
     "execution_count": 79,
     "metadata": {},
     "output_type": "execute_result"
    }
   ],
   "source": [
    "import sklearn.utils\n",
    "df = sklearn.utils.shuffle(all_data)\n",
    "#print('\\n\\ndf: {0}'.format(df))\n",
    "df.to_csv('fake_real_cnn_seg.csv', encoding='utf-8')\n",
    "df.head()"
   ]
  },
  {
   "cell_type": "code",
   "execution_count": 80,
   "metadata": {},
   "outputs": [
    {
     "data": {
      "text/plain": [
       "text     0\n",
       "Label    0\n",
       "dtype: int64"
      ]
     },
     "execution_count": 80,
     "metadata": {},
     "output_type": "execute_result"
    }
   ],
   "source": [
    "df.isnull().sum()"
   ]
  },
  {
   "cell_type": "code",
   "execution_count": 81,
   "metadata": {},
   "outputs": [],
   "source": [
    "from sklearn.model_selection import train_test_split\n",
    "\n",
    "# split complete dataset in train-test with ratio 80-20 respectively\n",
    "\n",
    "X_train, X_test, y_train, y_test = train_test_split(df['text'], df['Label'], test_size=0.1, random_state=1)\n",
    "\n",
    "\n",
    "# again split train data in train-validation with 90-10 ratio respectively\n",
    "\n",
    "X_train, X_val, y_train, y_val = train_test_split(X_train, y_train, test_size=0.1, random_state=1)"
   ]
  },
  {
   "cell_type": "code",
   "execution_count": 82,
   "metadata": {},
   "outputs": [],
   "source": [
    "# label encode the target variable \n",
    "encoder = preprocessing.LabelEncoder()\n",
    "train_y = encoder.fit_transform(y_train)\n",
    "valid_y = encoder.fit_transform(y_val)\n",
    "test_y = encoder.fit_transform( y_test)\n"
   ]
  },
  {
   "cell_type": "code",
   "execution_count": 83,
   "metadata": {},
   "outputs": [],
   "source": [
    "# create a count vectorizer object \n",
    "count_vect = CountVectorizer(analyzer='word', token_pattern=r'\\w{1,}')\n",
    "count_vect.fit(df['text'])\n",
    "\n",
    "# transform the training and validation data using count vectorizer object\n",
    "xtrain_count =  count_vect.transform(X_train)\n",
    "xvalid_count =  count_vect.transform(X_val)\n",
    "xtest_count = count_vect.transform(X_test)"
   ]
  },
  {
   "cell_type": "code",
   "execution_count": 84,
   "metadata": {},
   "outputs": [],
   "source": [
    "# word level tf-idf\n",
    "tfidf_vect = TfidfVectorizer(analyzer='word', token_pattern=r'\\w{1,}', max_features=1500)\n",
    "tfidf_vect.fit(df['text'])\n",
    "xtrain_tfidf =  tfidf_vect.transform(X_train)\n",
    "xvalid_tfidf =  tfidf_vect.transform(X_val)\n",
    "xtest_tfidf =  tfidf_vect.transform(X_test)\n",
    "# ngram level tf-idf \n",
    "tfidf_vect_ngram = TfidfVectorizer(analyzer='word', token_pattern=r'\\w{1,}', ngram_range=(2,3), max_features=1500)\n",
    "tfidf_vect_ngram.fit(df['text'])\n",
    "xtrain_tfidf_ngram =  tfidf_vect_ngram.transform(X_train)\n",
    "xvalid_tfidf_ngram =  tfidf_vect_ngram.transform(X_val)\n",
    "xtest_tfidf_ngram =  tfidf_vect_ngram.transform(X_test)\n",
    "# characters level tf-idf\n",
    "tfidf_vect_ngram_chars = TfidfVectorizer(analyzer='char', token_pattern=r'\\w{1,}', ngram_range=(2,3), max_features=1500)\n",
    "tfidf_vect_ngram_chars.fit(df['text'])\n",
    "xtrain_tfidf_ngram_chars =  tfidf_vect_ngram_chars.transform(X_train) \n",
    "xvalid_tfidf_ngram_chars =  tfidf_vect_ngram_chars.transform(X_val)\n",
    "xtest_tfidf_ngram_chars =  tfidf_vect_ngram_chars.transform(X_test) "
   ]
  },
  {
   "cell_type": "code",
   "execution_count": 85,
   "metadata": {},
   "outputs": [],
   "source": [
    "from sklearn import metrics\n",
    "from sklearn.metrics import accuracy_score, confusion_matrix,classification_report\n",
    "def train_model(classifier, feature_vector_train, label, feature_vector_valid,test, is_neural_net=False):\n",
    "    # fit the training dataset on the classifier\n",
    "    classifier.fit(feature_vector_train, label)\n",
    "    \n",
    "    # predict the labels on validation dataset\n",
    "    predictions = classifier.predict(feature_vector_valid)\n",
    "    \n",
    "    if is_neural_net:\n",
    "        predictions = predictions.argmax(axis=-1)\n",
    "    acc = metrics.accuracy_score(valid_y,predictions)    \n",
    "    confusion = confusion_matrix(valid_y,predictions)\n",
    "    report = classification_report(predictions, valid_y, target_names=['fake', 'Real'],digits=4)\n",
    "    test_precit = classifier.predict(test)\n",
    "    acc_test = metrics.accuracy_score(test_y,test_precit)\n",
    "    confusion_test = confusion_matrix(test_y,test_precit)\n",
    "    test_report = classification_report(test_precit, test_y, target_names=['fake', 'Real'],digits=4)\n",
    "    #print(\"Total score for {} is {}\".format(name, score))\n",
    "    return print( 'train_acc {} \\n confusion_tain {} \\n\\n  {} \\n \\n acc_test {} \\n confusion_test {} \\n test_report {}'.format(acc,confusion,report,acc_test,confusion_test,test_report)) \n"
   ]
  },
  {
   "cell_type": "code",
   "execution_count": 86,
   "metadata": {},
   "outputs": [
    {
     "name": "stdout",
     "output_type": "stream",
     "text": [
      "train_acc 0.9710144927536232 \n",
      " confusion_tain [[340   0]\n",
      " [ 18 263]] \n",
      "\n",
      "               precision    recall  f1-score   support\n",
      "\n",
      "       fake     1.0000    0.9497    0.9742       358\n",
      "       Real     0.9359    1.0000    0.9669       263\n",
      "\n",
      "avg / total     0.9729    0.9710    0.9711       621\n",
      " \n",
      " \n",
      " acc_test 0.9579710144927536 \n",
      " confusion_test [[365   5]\n",
      " [ 24 296]] \n",
      " test_report              precision    recall  f1-score   support\n",
      "\n",
      "       fake     0.9865    0.9383    0.9618       389\n",
      "       Real     0.9250    0.9834    0.9533       301\n",
      "\n",
      "avg / total     0.9597    0.9580    0.9581       690\n",
      "\n",
      "None NB, Count Vectors: \n",
      "train_acc 0.964573268921095 \n",
      " confusion_tain [[333   7]\n",
      " [ 15 266]] \n",
      "\n",
      "               precision    recall  f1-score   support\n",
      "\n",
      "       fake     0.9794    0.9569    0.9680       348\n",
      "       Real     0.9466    0.9744    0.9603       273\n",
      "\n",
      "avg / total     0.9650    0.9646    0.9646       621\n",
      " \n",
      " \n",
      " acc_test 0.9449275362318841 \n",
      " confusion_test [[360  10]\n",
      " [ 28 292]] \n",
      " test_report              precision    recall  f1-score   support\n",
      "\n",
      "       fake     0.9730    0.9278    0.9499       388\n",
      "       Real     0.9125    0.9669    0.9389       302\n",
      "\n",
      "avg / total     0.9465    0.9449    0.9451       690\n",
      "\n",
      "NB, WordLevel TF-IDF:  None\n",
      "train_acc 0.9629629629629629 \n",
      " confusion_tain [[334   6]\n",
      " [ 17 264]] \n",
      "\n",
      "               precision    recall  f1-score   support\n",
      "\n",
      "       fake     0.9824    0.9516    0.9667       351\n",
      "       Real     0.9395    0.9778    0.9583       270\n",
      "\n",
      "avg / total     0.9637    0.9630    0.9630       621\n",
      " \n",
      " \n",
      " acc_test 0.9246376811594202 \n",
      " confusion_test [[356  14]\n",
      " [ 38 282]] \n",
      " test_report              precision    recall  f1-score   support\n",
      "\n",
      "       fake     0.9622    0.9036    0.9319       394\n",
      "       Real     0.8812    0.9527    0.9156       296\n",
      "\n",
      "avg / total     0.9275    0.9246    0.9249       690\n",
      "\n",
      "NB, N-Gram Vectors:  None\n",
      "train_acc 0.92914653784219 \n",
      " confusion_tain [[320  20]\n",
      " [ 24 257]] \n",
      "\n",
      "               precision    recall  f1-score   support\n",
      "\n",
      "       fake     0.9412    0.9302    0.9357       344\n",
      "       Real     0.9146    0.9278    0.9211       277\n",
      "\n",
      "avg / total     0.9293    0.9291    0.9292       621\n",
      " \n",
      " \n",
      " acc_test 0.9246376811594202 \n",
      " confusion_test [[352  18]\n",
      " [ 34 286]] \n",
      " test_report              precision    recall  f1-score   support\n",
      "\n",
      "       fake     0.9514    0.9119    0.9312       386\n",
      "       Real     0.8938    0.9408    0.9167       304\n",
      "\n",
      "avg / total     0.9260    0.9246    0.9248       690\n",
      "\n",
      "NB, CharLevel Vectors:  None\n"
     ]
    }
   ],
   "source": [
    "# Naive Bayes on Count Vectors third round\n",
    "from sklearn.metrics import classification_report\n",
    "accuracy = train_model(naive_bayes.MultinomialNB(), xtrain_count, train_y, xvalid_count,xtest_count)\n",
    "print ( accuracy,\"NB, Count Vectors: \")\n",
    "\n",
    "# Naive Bayes on Word Level TF IDF Vectors\n",
    "accuracy = train_model(naive_bayes.MultinomialNB(), xtrain_tfidf, train_y, xvalid_tfidf,xtest_tfidf)\n",
    "print (\"NB, WordLevel TF-IDF: \", accuracy)\n",
    "\n",
    "# Naive Bayes on Ngram Level TF IDF Vectors\n",
    "accuracy = train_model(naive_bayes.MultinomialNB(), xtrain_tfidf_ngram, train_y, xvalid_tfidf_ngram,xtest_tfidf_ngram)\n",
    "print (\"NB, N-Gram Vectors: \", accuracy)\n",
    "\n",
    "# Naive Bayes on Character Level TF IDF Vectors\n",
    "accuracy = train_model(naive_bayes.MultinomialNB(), xtrain_tfidf_ngram_chars, train_y, xvalid_tfidf_ngram_chars,xtest_tfidf_ngram_chars)\n",
    "print( \"NB, CharLevel Vectors: \", accuracy)"
   ]
  },
  {
   "cell_type": "code",
   "execution_count": 21,
   "metadata": {},
   "outputs": [
    {
     "name": "stdout",
     "output_type": "stream",
     "text": [
      "train_acc 0.9784313725490196 \n",
      " confusion_tain [[256   0]\n",
      " [ 11 243]] \n",
      " report_train              precision    recall  f1-score   support\n",
      "\n",
      "       fake     1.0000    0.9588    0.9790       267\n",
      "       Real     0.9567    1.0000    0.9779       243\n",
      "\n",
      "avg / total     0.9794    0.9784    0.9784       510\n",
      "\n",
      " acc_test 0.9693877551020408 \n",
      " confusion_test [[631   3]\n",
      " [ 36 604]] \n",
      " test_report              precision    recall  f1-score   support\n",
      "\n",
      "       fake     0.9953    0.9460    0.9700       667\n",
      "       Real     0.9437    0.9951    0.9687       607\n",
      "\n",
      "avg / total     0.9707    0.9694    0.9694      1274\n",
      "\n",
      "None NB, Count Vectors: \n",
      "train_acc 0.9372549019607843 \n",
      " confusion_tain [[244  12]\n",
      " [ 20 234]] \n",
      " report_train              precision    recall  f1-score   support\n",
      "\n",
      "       fake     0.9531    0.9242    0.9385       264\n",
      "       Real     0.9213    0.9512    0.9360       246\n",
      "\n",
      "avg / total     0.9378    0.9373    0.9373       510\n",
      "\n",
      " acc_test 0.9513343799058085 \n",
      " confusion_test [[614  20]\n",
      " [ 42 598]] \n",
      " test_report              precision    recall  f1-score   support\n",
      "\n",
      "       fake     0.9685    0.9360    0.9519       656\n",
      "       Real     0.9344    0.9676    0.9507       618\n",
      "\n",
      "avg / total     0.9519    0.9513    0.9513      1274\n",
      "\n",
      "NB, WordLevel TF-IDF:  None\n",
      "train_acc 0.8921568627450981 \n",
      " confusion_tain [[246  10]\n",
      " [ 45 209]] \n",
      " report_train              precision    recall  f1-score   support\n",
      "\n",
      "       fake     0.9609    0.8454    0.8995       291\n",
      "       Real     0.8228    0.9543    0.8837       219\n",
      "\n",
      "avg / total     0.9016    0.8922    0.8927       510\n",
      "\n",
      " acc_test 0.8822605965463108 \n",
      " confusion_test [[614  20]\n",
      " [130 510]] \n",
      " test_report              precision    recall  f1-score   support\n",
      "\n",
      "       fake     0.9685    0.8253    0.8911       744\n",
      "       Real     0.7969    0.9623    0.8718       530\n",
      "\n",
      "avg / total     0.8971    0.8823    0.8831      1274\n",
      "\n",
      "NB, N-Gram Vectors:  None\n",
      "train_acc 0.9235294117647059 \n",
      " confusion_tain [[235  21]\n",
      " [ 18 236]] \n",
      " report_train              precision    recall  f1-score   support\n",
      "\n",
      "       fake     0.9180    0.9289    0.9234       253\n",
      "       Real     0.9291    0.9183    0.9237       257\n",
      "\n",
      "avg / total     0.9236    0.9235    0.9235       510\n",
      "\n",
      " acc_test 0.9309262166405023 \n",
      " confusion_test [[596  38]\n",
      " [ 50 590]] \n",
      " test_report              precision    recall  f1-score   support\n",
      "\n",
      "       fake     0.9401    0.9226    0.9313       646\n",
      "       Real     0.9219    0.9395    0.9306       628\n",
      "\n",
      "avg / total     0.9311    0.9309    0.9309      1274\n",
      "\n",
      "NB, CharLevel Vectors:  None\n"
     ]
    }
   ],
   "source": [
    "# Naive Bayes on Count Vectors new\n",
    "from sklearn.metrics import classification_report\n",
    "accuracy = train_model(naive_bayes.MultinomialNB(), xtrain_count, train_y, xvalid_count,xtest_count)\n",
    "print ( accuracy,\"NB, Count Vectors: \")\n",
    "\n",
    "# Naive Bayes on Word Level TF IDF Vectors\n",
    "accuracy = train_model(naive_bayes.MultinomialNB(), xtrain_tfidf, train_y, xvalid_tfidf,xtest_tfidf)\n",
    "print (\"NB, WordLevel TF-IDF: \", accuracy)\n",
    "\n",
    "# Naive Bayes on Ngram Level TF IDF Vectors\n",
    "accuracy = train_model(naive_bayes.MultinomialNB(), xtrain_tfidf_ngram, train_y, xvalid_tfidf_ngram,xtest_tfidf_ngram)\n",
    "print (\"NB, N-Gram Vectors: \", accuracy)\n",
    "\n",
    "# Naive Bayes on Character Level TF IDF Vectors\n",
    "accuracy = train_model(naive_bayes.MultinomialNB(), xtrain_tfidf_ngram_chars, train_y, xvalid_tfidf_ngram_chars,xtest_tfidf_ngram_chars)\n",
    "print( \"NB, CharLevel Vectors: \", accuracy)"
   ]
  },
  {
   "cell_type": "code",
   "execution_count": 106,
   "metadata": {},
   "outputs": [],
   "source": [
    "import itertools\n",
    "import matplotlib.pyplot as plt\n",
    "\n",
    "def plot_confusion_matrix(cm, classes,\n",
    "                          normalize=False,\n",
    "                          title='Confusion matrix',\n",
    "                          cmap=plt.cm.Blues):\n",
    "    \"\"\"\n",
    "    See full source and example: \n",
    "    http://scikit-learn.org/stable/auto_examples/model_selection/plot_confusion_matrix.html\n",
    "    \n",
    "    This function prints and plots the confusion matrix.\n",
    "    Normalization can be applied by setting `normalize=True`.\n",
    "    \"\"\"\n",
    "    plt.imshow(cm, interpolation='nearest', cmap=cmap)\n",
    "    plt.title(title)\n",
    "    plt.colorbar()\n",
    "    tick_marks = np.arange(len(classes))\n",
    "    plt.xticks(tick_marks, classes, rotation=45)\n",
    "    plt.yticks(tick_marks, classes)\n",
    "\n",
    "    if normalize:\n",
    "        cm = cm.astype('float') / cm.sum(axis=1)[:, np.newaxis]\n",
    "        print(\"Normalized confusion matrix\")\n",
    "    else:\n",
    "        print('Confusion matrix, without normalization')\n",
    "\n",
    "    thresh = cm.max() / 2.\n",
    "    for i, j in itertools.product(range(cm.shape[0]), range(cm.shape[1])):\n",
    "        plt.text(j, i, cm[i, j],\n",
    "                 horizontalalignment=\"center\",\n",
    "                 color=\"white\" if cm[i, j] > thresh else \"black\")\n",
    "\n",
    "    plt.tight_layout()\n",
    "    plt.ylabel('True label')\n",
    "    plt.xlabel('Predicted label')"
   ]
  },
  {
   "cell_type": "code",
   "execution_count": 109,
   "metadata": {},
   "outputs": [],
   "source": [
    "from sklearn import metrics\n",
    "from sklearn.metrics import accuracy_score, confusion_matrix,classification_report\n",
    "def train_model(classifier, feature_vector_train, label, feature_vector_valid,test, is_neural_net=False):\n",
    "    # fit the training dataset on the classifier\n",
    "    classifier.fit(feature_vector_train, label)\n",
    "    \n",
    "    # predict the labels on validation dataset\n",
    "    predictions = classifier.predict(feature_vector_valid)\n",
    "    \n",
    "    if is_neural_net:\n",
    "        predictions = predictions.argmax(axis=-1)\n",
    "    acc = metrics.accuracy_score(valid_y,predictions)    \n",
    "    confusion = confusion_matrix(valid_y,predictions)\n",
    "    report = classification_report(predictions, valid_y, target_names=['fake', 'Real'],digits=4)\n",
    "    test_precit = classifier.predict(test)\n",
    "    acc_test = metrics.accuracy_score(test_y,test_precit)\n",
    "    confusion_test = confusion_matrix(test_y,test_precit)\n",
    "    test_report = classification_report(test_precit, test_y, target_names=['fake', 'Real'],digits=4)\n",
    "    #print(\"Total score for {} is {}\".format(name, score))\n",
    "    plot_confusion_matrix(confusion_test, classes=['Real', 'Fake'])\n",
    "    return print( 'train_acc {} \\n confusion_tain {} \\n\\n  {} \\n \\n acc_test {} \\n confusion_test {} \\n test_report {}'.format(acc,confusion,report,acc_test,confusion_test,test_report)) \n",
    "\n",
    "\n",
    "\n"
   ]
  },
  {
   "cell_type": "code",
   "execution_count": 110,
   "metadata": {},
   "outputs": [
    {
     "name": "stdout",
     "output_type": "stream",
     "text": [
      "Confusion matrix, without normalization\n",
      "train_acc 0.966183574879227 \n",
      " confusion_tain [[330   1]\n",
      " [ 20 270]] \n",
      "\n",
      "               precision    recall  f1-score   support\n",
      "\n",
      "       fake     0.9970    0.9429    0.9692       350\n",
      "       Real     0.9310    0.9963    0.9626       271\n",
      "\n",
      "avg / total     0.9682    0.9662    0.9663       621\n",
      " \n",
      " \n",
      " acc_test 0.9623188405797102 \n",
      " confusion_test [[344   1]\n",
      " [ 25 320]] \n",
      " test_report              precision    recall  f1-score   support\n",
      "\n",
      "       fake     0.9971    0.9322    0.9636       369\n",
      "       Real     0.9275    0.9969    0.9610       321\n",
      "\n",
      "avg / total     0.9647    0.9623    0.9624       690\n",
      "\n",
      "None NB, Count Vectors: \n"
     ]
    },
    {
     "data": {
      "image/png": "[encoded data removed]",
      "text/plain": [
       "<Figure size 432x288 with 2 Axes>"
      ]
     },
     "metadata": {
      "needs_background": "light"
     },
     "output_type": "display_data"
    }
   ],
   "source": [
    "accuracy = train_model(naive_bayes.MultinomialNB(), xtrain_count, train_y, xvalid_count,xtest_count)\n",
    "print ( accuracy,\"NB, Count Vectors: \")"
   ]
  },
  {
   "cell_type": "code",
   "execution_count": 115,
   "metadata": {},
   "outputs": [
    {
     "name": "stdout",
     "output_type": "stream",
     "text": [
      "Confusion matrix, without normalization\n",
      "train_acc 0.9384057971014492 \n",
      " confusion_tain [[271   1]\n",
      " [ 33 247]] \n",
      "\n",
      "               precision    recall  f1-score   support\n",
      "\n",
      "       fake     0.9963    0.8914    0.9410       304\n",
      "       Real     0.8821    0.9960    0.9356       248\n",
      "\n",
      "avg / total     0.9450    0.9384    0.9386       552\n",
      " \n",
      " \n",
      " acc_test 0.9572153734590283 \n",
      " confusion_test [[726   2]\n",
      " [ 57 594]] \n",
      " test_report              precision    recall  f1-score   support\n",
      "\n",
      "       fake     0.9973    0.9272    0.9610       783\n",
      "       Real     0.9124    0.9966    0.9527       596\n",
      "\n",
      "avg / total     0.9606    0.9572    0.9574      1379\n",
      "\n",
      "None NB, Count Vectors: \n"
     ]
    },
    {
     "data": {
      "image/png": "[encoded data removed]",
      "text/plain": [
       "<Figure size 432x288 with 2 Axes>"
      ]
     },
     "metadata": {
      "needs_background": "light"
     },
     "output_type": "display_data"
    }
   ],
   "source": [
    "accuracy = train_model(naive_bayes.MultinomialNB(), xtrain_count, train_y, xvalid_count,xtest_count)\n",
    "print ( accuracy,\"NB, Count Vectors: \")"
   ]
  },
  {
   "cell_type": "code",
   "execution_count": null,
   "metadata": {},
   "outputs": [],
   "source": []
  }
 ],
 "metadata": {
  "kernelspec": {
   "display_name": "Python [conda env:old_env] *",
   "language": "python",
   "name": "conda-env-old_env-py"
  },
  "language_info": {
   "codemirror_mode": {
    "name": "ipython",
    "version": 3
   },
   "file_extension": ".py",
   "mimetype": "text/x-python",
   "name": "python",
   "nbconvert_exporter": "python",
   "pygments_lexer": "ipython3",
   "version": "3.6.5"
  }
 },
 "nbformat": 4,
 "nbformat_minor": 2
}
